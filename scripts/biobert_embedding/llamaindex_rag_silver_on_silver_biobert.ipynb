{
 "cells": [
  {
   "cell_type": "markdown",
   "metadata": {},
   "source": [
    "## We are running CT_Repo Remaining 1000 Sample data using ct_repo indexed stores"
   ]
  },
  {
   "cell_type": "code",
   "execution_count": 42,
   "metadata": {},
   "outputs": [
    {
     "name": "stdout",
     "output_type": "stream",
     "text": [
      "The autoreload extension is already loaded. To reload it, use:\n",
      "  %reload_ext autoreload\n"
     ]
    }
   ],
   "source": [
    "%load_ext autoreload\n",
    "%autoreload 2"
   ]
  },
  {
   "cell_type": "code",
   "execution_count": 43,
   "metadata": {},
   "outputs": [],
   "source": [
    "import json \n",
    "import pandas as pd \n",
    "from dotenv import load_dotenv\n",
    "from model_list import models \n",
    "import chromadb\n",
    "import openai\n",
    "import module \n",
    "import os \n",
    "from tqdm import tqdm "
   ]
  },
  {
   "cell_type": "code",
   "execution_count": 44,
   "metadata": {},
   "outputs": [],
   "source": [
    "load_dotenv()\n",
    "os.environ['OPENAI_API_KEY'] = os.getenv('OPENAI_API_KEY_TEAM')\n",
    "os.environ['HF_TOKEN'] = os.getenv('HF_TOKEN')\n",
    "os.environ['GROQ_API_KEY'] = os.getenv('GROQ_API_KEY')"
   ]
  },
  {
   "cell_type": "code",
   "execution_count": 45,
   "metadata": {},
   "outputs": [],
   "source": [
    "# data_500 = pd.read_csv('../data/CT-Repo-With-Examples-Corrected-500-Sample.csv')\n",
    "# data = pd.read_csv('../data/CT-Repo-With-Examples-Processed-Version-Corrected.csv')\n",
    "data = pd.read_csv('../data/hidden_data/biobert_embed/CT-Repo-rag-biobert-allgen.csv')"
   ]
  },
  {
   "cell_type": "code",
   "execution_count": 46,
   "metadata": {},
   "outputs": [
    {
     "data": {
      "text/html": [
       "<div>\n",
       "<style scoped>\n",
       "    .dataframe tbody tr th:only-of-type {\n",
       "        vertical-align: middle;\n",
       "    }\n",
       "\n",
       "    .dataframe tbody tr th {\n",
       "        vertical-align: top;\n",
       "    }\n",
       "\n",
       "    .dataframe thead th {\n",
       "        text-align: right;\n",
       "    }\n",
       "</style>\n",
       "<table border=\"1\" class=\"dataframe\">\n",
       "  <thead>\n",
       "    <tr style=\"text-align: right;\">\n",
       "      <th></th>\n",
       "      <th>NCTId</th>\n",
       "      <th>BriefTitle</th>\n",
       "      <th>EligibilityCriteria</th>\n",
       "      <th>BriefSummary</th>\n",
       "      <th>Conditions</th>\n",
       "      <th>Interventions</th>\n",
       "      <th>PrimaryOutcomes</th>\n",
       "      <th>TrialGroup</th>\n",
       "      <th>API_BaselineMeasures</th>\n",
       "      <th>API_BaselineMeasures_Corrected</th>\n",
       "      <th>gpt4o_rag_ts_gen</th>\n",
       "      <th>llama3_70b_it_rag_ts_gen</th>\n",
       "    </tr>\n",
       "  </thead>\n",
       "  <tbody>\n",
       "    <tr>\n",
       "      <th>0</th>\n",
       "      <td>NCT00000620</td>\n",
       "      <td>Action to Control Cardiovascular Risk in Diabe...</td>\n",
       "      <td>Inclusion Criteria:\\n\\n* Diagnosed with type 2...</td>\n",
       "      <td>The purpose of this study is to prevent major ...</td>\n",
       "      <td>Atherosclerosis, Cardiovascular Diseases, Hype...</td>\n",
       "      <td>Anti-hyperglycemic Agents, Anti-hypertensive A...</td>\n",
       "      <td>First Occurrence of a Major Cardiovascular Eve...</td>\n",
       "      <td>hypertension</td>\n",
       "      <td>Age, Continuous, Gender, Ethnicity (NIH/OMB), ...</td>\n",
       "      <td>`Age, Continuous`, `Gender`, `Ethnicity (NIH/O...</td>\n",
       "      <td>NaN</td>\n",
       "      <td>NaN</td>\n",
       "    </tr>\n",
       "    <tr>\n",
       "      <th>1</th>\n",
       "      <td>NCT00003901</td>\n",
       "      <td>Prognostic Study of Metastases in Patients Wit...</td>\n",
       "      <td>Inclusion Criteria:\\n\\n1. Patient must be ≥ 18...</td>\n",
       "      <td>RATIONALE: Prognostic testing for early signs ...</td>\n",
       "      <td>Lung Cancer,</td>\n",
       "      <td>immunohistochemistry staining method, biopsy, ...</td>\n",
       "      <td>Overall Survival in Lymph Nodes Examined Patie...</td>\n",
       "      <td>cancer</td>\n",
       "      <td>Age, Continuous, Gender, Race/Ethnicity, Custo...</td>\n",
       "      <td>`Age, Continuous`, `Gender`, `Race/Ethnicity, ...</td>\n",
       "      <td>`Age, Continuous`, `Sex: Female, Male`, `Race ...</td>\n",
       "      <td>`Age, Continuous`, `Sex: Female, Male`, `Ethni...</td>\n",
       "    </tr>\n",
       "    <tr>\n",
       "      <th>2</th>\n",
       "      <td>NCT00005879</td>\n",
       "      <td>LY353381 in Preventing Breast Cancer in Women ...</td>\n",
       "      <td>DISEASE CHARACTERISTICS:\\n\\n* Current random f...</td>\n",
       "      <td>RATIONALE: Chemoprevention therapy is the use ...</td>\n",
       "      <td>Breast Cancer,</td>\n",
       "      <td>arzoxifene, Placebo,</td>\n",
       "      <td>Change in Masood Score, Number of Participants...</td>\n",
       "      <td>cancer</td>\n",
       "      <td>Age, Continuous, Sex: Female, Male, Region of ...</td>\n",
       "      <td>`Age, Continuous`, `Sex: Female, Male`, `Regio...</td>\n",
       "      <td>`Age, Continuous`, `Sex: Female`, `Menopausal ...</td>\n",
       "      <td>`Age, Continuous`, `Sex: Female`, `Region of E...</td>\n",
       "    </tr>\n",
       "  </tbody>\n",
       "</table>\n",
       "</div>"
      ],
      "text/plain": [
       "         NCTId                                         BriefTitle  \\\n",
       "0  NCT00000620  Action to Control Cardiovascular Risk in Diabe...   \n",
       "1  NCT00003901  Prognostic Study of Metastases in Patients Wit...   \n",
       "2  NCT00005879  LY353381 in Preventing Breast Cancer in Women ...   \n",
       "\n",
       "                                 EligibilityCriteria  \\\n",
       "0  Inclusion Criteria:\\n\\n* Diagnosed with type 2...   \n",
       "1  Inclusion Criteria:\\n\\n1. Patient must be ≥ 18...   \n",
       "2  DISEASE CHARACTERISTICS:\\n\\n* Current random f...   \n",
       "\n",
       "                                        BriefSummary  \\\n",
       "0  The purpose of this study is to prevent major ...   \n",
       "1  RATIONALE: Prognostic testing for early signs ...   \n",
       "2  RATIONALE: Chemoprevention therapy is the use ...   \n",
       "\n",
       "                                          Conditions  \\\n",
       "0  Atherosclerosis, Cardiovascular Diseases, Hype...   \n",
       "1                                      Lung Cancer,    \n",
       "2                                    Breast Cancer,    \n",
       "\n",
       "                                       Interventions  \\\n",
       "0  Anti-hyperglycemic Agents, Anti-hypertensive A...   \n",
       "1  immunohistochemistry staining method, biopsy, ...   \n",
       "2                              arzoxifene, Placebo,    \n",
       "\n",
       "                                     PrimaryOutcomes    TrialGroup  \\\n",
       "0  First Occurrence of a Major Cardiovascular Eve...  hypertension   \n",
       "1  Overall Survival in Lymph Nodes Examined Patie...        cancer   \n",
       "2  Change in Masood Score, Number of Participants...        cancer   \n",
       "\n",
       "                                API_BaselineMeasures  \\\n",
       "0  Age, Continuous, Gender, Ethnicity (NIH/OMB), ...   \n",
       "1  Age, Continuous, Gender, Race/Ethnicity, Custo...   \n",
       "2  Age, Continuous, Sex: Female, Male, Region of ...   \n",
       "\n",
       "                      API_BaselineMeasures_Corrected  \\\n",
       "0  `Age, Continuous`, `Gender`, `Ethnicity (NIH/O...   \n",
       "1  `Age, Continuous`, `Gender`, `Race/Ethnicity, ...   \n",
       "2  `Age, Continuous`, `Sex: Female, Male`, `Regio...   \n",
       "\n",
       "                                    gpt4o_rag_ts_gen  \\\n",
       "0                                                NaN   \n",
       "1  `Age, Continuous`, `Sex: Female, Male`, `Race ...   \n",
       "2  `Age, Continuous`, `Sex: Female`, `Menopausal ...   \n",
       "\n",
       "                            llama3_70b_it_rag_ts_gen  \n",
       "0                                                NaN  \n",
       "1  `Age, Continuous`, `Sex: Female, Male`, `Ethni...  \n",
       "2  `Age, Continuous`, `Sex: Female`, `Region of E...  "
      ]
     },
     "execution_count": 46,
     "metadata": {},
     "output_type": "execute_result"
    }
   ],
   "source": [
    "data.head(3)"
   ]
  },
  {
   "cell_type": "code",
   "execution_count": 32,
   "metadata": {},
   "outputs": [],
   "source": [
    "#main_path = '/Users/nafisneehal/Desktop/CTBench_RAG/'\n",
    "\n",
    "# Initialize ChromaDB\n",
    "# Directory containing JSON files\n",
    "input_json_directory = '../data/ctrepo_json' #source of input json files\n",
    "rag_json_directory = '../data/ctrepo_json' #source of example json files\n",
    "vector_store_path = '../chroma_db_ctrepo_indexedby_biobert' #search the ctrepo vector store for examples \n",
    "\n",
    "# #initialize client \n",
    "c_db = chromadb.PersistentClient(path=vector_store_path)\n",
    "#get collection\n",
    "chroma_collection = c_db.get_or_create_collection(\"ctrepo_all_biobert\") #located in df_to_json_and_indexing.ipynb file "
   ]
  },
  {
   "cell_type": "code",
   "execution_count": 33,
   "metadata": {},
   "outputs": [],
   "source": [
    "def json_file_to_rag_query(file_name, json_directory):\n",
    "    with open(f\"{json_directory}/{file_name}\", \"r\") as file:\n",
    "        trial_data = json.load(file)\n",
    "        trial_query = f\"\"\"\n",
    "        BriefTitle: {trial_data['BriefTitle']}\\n\n",
    "        EligibilityCriteria: {trial_data['EligibilityCriteria']}\\n \n",
    "        BriefSummary: {trial_data['BriefSummary']}\\n\n",
    "        Conditions: {trial_data['Conditions']}\\n\n",
    "        Interventions: {trial_data['Interventions']}\\n\n",
    "        PrimaryOutcomes: {trial_data['PrimaryOutcomes']}\n",
    "        \"\"\"\n",
    "        return trial_query"
   ]
  },
  {
   "cell_type": "code",
   "execution_count": 70,
   "metadata": {},
   "outputs": [
    {
     "data": {
      "text/plain": [
       "['NCT01364584',\n",
       " 'NCT01452412',\n",
       " 'NCT02337946',\n",
       " 'NCT02966028',\n",
       " 'NCT03197038',\n",
       " 'NCT03686150',\n",
       " 'NCT03923933']"
      ]
     },
     "execution_count": 70,
     "metadata": {},
     "output_type": "execute_result"
    }
   ],
   "source": [
    "eval_error_ids"
   ]
  },
  {
   "cell_type": "markdown",
   "metadata": {},
   "source": [
    "# GPT-4o Generation with RAG (3 shot) "
   ]
  },
  {
   "cell_type": "code",
   "execution_count": 71,
   "metadata": {},
   "outputs": [
    {
     "name": "stdout",
     "output_type": "stream",
     "text": [
      "LLM is explicitly disabled. Using MockLLM.\n"
     ]
    },
    {
     "name": "stderr",
     "output_type": "stream",
     "text": [
      "Batches: 100%|██████████| 1/1 [00:00<00:00,  3.58it/s]\n",
      "Batches: 100%|██████████| 1/1 [00:00<00:00,  5.03it/s]\n",
      "Batches: 100%|██████████| 1/1 [00:00<00:00,  8.16it/s]\n",
      "Batches: 100%|██████████| 1/1 [00:00<00:00,  6.95it/s]\n",
      "Batches: 100%|██████████| 1/1 [00:00<00:00,  5.94it/s]\n",
      "Batches: 100%|██████████| 1/1 [00:00<00:00,  1.99it/s]\n",
      "Batches: 100%|██████████| 1/1 [00:00<00:00,  5.53it/s]\n",
      "1693it [00:28, 60.27it/s]\n"
     ]
    }
   ],
   "source": [
    "from llama_index.embeddings.huggingface import HuggingFaceEmbedding\n",
    "from llama_index.core import Settings\n",
    "\n",
    "import logging\n",
    "logger = logging.getLogger(__name__)\n",
    "logging.basicConfig(\n",
    "    filename='gpt4_rag_gen_1000.log',\n",
    "    filemode='a',\n",
    "    format='%(asctime)s - %(name)s - %(levelname)s - %(message)s',\n",
    "    datefmt='%d-%b-%y %H:%M:%S',\n",
    "    encoding='utf-8',\n",
    "    level=logging.INFO,\n",
    "    force=True\n",
    ")\n",
    "\n",
    "number_of_similar_trials = 3\n",
    "model_name   = models['gpt-4o']\n",
    "embed_model = HuggingFaceEmbedding(model_name=\"dmis-lab/biobert-base-cased-v1.2\")\n",
    "Settings.embed_model = embed_model\n",
    "Settings.llm = None \n",
    "\n",
    "#data['gpt4o_rag_ts_gen'] = None \n",
    "\n",
    "for index, row in tqdm(data.iterrows()):\n",
    "\n",
    "    #print(row['NCTId'])\n",
    "\n",
    "    #AVOID these trials that were used as three-shot examples only\n",
    "    example_trials_to_avoid = ['NCT00000620', 'NCT01483560', 'NCT04280783']\n",
    "    if row['NCTId'] in example_trials_to_avoid:\n",
    "        logging.info(f\"Skipping {row['NCTId']} as it was used as a three-shot example\")\n",
    "        continue\n",
    "\n",
    "    if row['NCTId'] not in eval_error_ids:\n",
    "        continue \n",
    "    \n",
    "    file_name = row['NCTId'] + '.json'\n",
    "    query_trial = json_file_to_rag_query(file_name, input_json_directory) #string query for searching rag database only\n",
    "\n",
    "    #run rag query and find the filenames of similar trials\n",
    "    similar_trials = module.query_clinical_trials_using_llamaindex(chroma_collection, vector_store_path,  \n",
    "                                                                   query_trial, top_k=number_of_similar_trials,\n",
    "                                                                   embed_model=embed_model)\n",
    "    \n",
    "    #print(similar_trials)\n",
    "\n",
    "    #get system message, question \n",
    "    system_message, question = module.build_three_shot_prompt(row, similar_trials, rag_json_directory, \n",
    "                                                              ref_col_name='API_BaselineMeasures_Corrected') #asking ct_repo examples \n",
    "\n",
    "    model_query = module.system_user_template(system_message, question)\n",
    "\n",
    "    try:\n",
    "        model_response = module.run_generation_single_openai(model_query, model_name = model_name, \n",
    "                                                    openai_token = os.environ[\"OPENAI_API_KEY\"], temperature=0.0)\n",
    "    except Exception as e:\n",
    "        logging.error(f\"Error {e} in generating response for {row['NCTId']}\")\n",
    "        print(f\"Error {e} in generating response for {row['NCTId']}\")\n",
    "        model_response = None\n",
    "        continue\n",
    "\n",
    "    data.at[index, 'gpt4o_rag_ts_gen'] = model_response\n",
    "    \n",
    "    # print \n",
    "    # print(system_message)\n",
    "    # print(question)\n",
    "    # print(model_response)\n",
    "    # break"
   ]
  },
  {
   "cell_type": "code",
   "execution_count": 72,
   "metadata": {},
   "outputs": [
    {
     "data": {
      "text/html": [
       "<div>\n",
       "<style scoped>\n",
       "    .dataframe tbody tr th:only-of-type {\n",
       "        vertical-align: middle;\n",
       "    }\n",
       "\n",
       "    .dataframe tbody tr th {\n",
       "        vertical-align: top;\n",
       "    }\n",
       "\n",
       "    .dataframe thead th {\n",
       "        text-align: right;\n",
       "    }\n",
       "</style>\n",
       "<table border=\"1\" class=\"dataframe\">\n",
       "  <thead>\n",
       "    <tr style=\"text-align: right;\">\n",
       "      <th></th>\n",
       "      <th>NCTId</th>\n",
       "      <th>BriefTitle</th>\n",
       "      <th>EligibilityCriteria</th>\n",
       "      <th>BriefSummary</th>\n",
       "      <th>Conditions</th>\n",
       "      <th>Interventions</th>\n",
       "      <th>PrimaryOutcomes</th>\n",
       "      <th>TrialGroup</th>\n",
       "      <th>API_BaselineMeasures</th>\n",
       "      <th>API_BaselineMeasures_Corrected</th>\n",
       "      <th>gpt4o_rag_ts_gen</th>\n",
       "      <th>llama3_70b_it_rag_ts_gen</th>\n",
       "    </tr>\n",
       "  </thead>\n",
       "  <tbody>\n",
       "    <tr>\n",
       "      <th>0</th>\n",
       "      <td>NCT00000620</td>\n",
       "      <td>Action to Control Cardiovascular Risk in Diabe...</td>\n",
       "      <td>Inclusion Criteria:\\n\\n* Diagnosed with type 2...</td>\n",
       "      <td>The purpose of this study is to prevent major ...</td>\n",
       "      <td>Atherosclerosis, Cardiovascular Diseases, Hype...</td>\n",
       "      <td>Anti-hyperglycemic Agents, Anti-hypertensive A...</td>\n",
       "      <td>First Occurrence of a Major Cardiovascular Eve...</td>\n",
       "      <td>hypertension</td>\n",
       "      <td>Age, Continuous, Gender, Ethnicity (NIH/OMB), ...</td>\n",
       "      <td>`Age, Continuous`, `Gender`, `Ethnicity (NIH/O...</td>\n",
       "      <td>NaN</td>\n",
       "      <td>NaN</td>\n",
       "    </tr>\n",
       "    <tr>\n",
       "      <th>1</th>\n",
       "      <td>NCT00003901</td>\n",
       "      <td>Prognostic Study of Metastases in Patients Wit...</td>\n",
       "      <td>Inclusion Criteria:\\n\\n1. Patient must be ≥ 18...</td>\n",
       "      <td>RATIONALE: Prognostic testing for early signs ...</td>\n",
       "      <td>Lung Cancer,</td>\n",
       "      <td>immunohistochemistry staining method, biopsy, ...</td>\n",
       "      <td>Overall Survival in Lymph Nodes Examined Patie...</td>\n",
       "      <td>cancer</td>\n",
       "      <td>Age, Continuous, Gender, Race/Ethnicity, Custo...</td>\n",
       "      <td>`Age, Continuous`, `Gender`, `Race/Ethnicity, ...</td>\n",
       "      <td>`Age, Continuous`, `Sex: Female, Male`, `Race ...</td>\n",
       "      <td>`Age, Continuous`, `Sex: Female, Male`, `Ethni...</td>\n",
       "    </tr>\n",
       "    <tr>\n",
       "      <th>2</th>\n",
       "      <td>NCT00005879</td>\n",
       "      <td>LY353381 in Preventing Breast Cancer in Women ...</td>\n",
       "      <td>DISEASE CHARACTERISTICS:\\n\\n* Current random f...</td>\n",
       "      <td>RATIONALE: Chemoprevention therapy is the use ...</td>\n",
       "      <td>Breast Cancer,</td>\n",
       "      <td>arzoxifene, Placebo,</td>\n",
       "      <td>Change in Masood Score, Number of Participants...</td>\n",
       "      <td>cancer</td>\n",
       "      <td>Age, Continuous, Sex: Female, Male, Region of ...</td>\n",
       "      <td>`Age, Continuous`, `Sex: Female, Male`, `Regio...</td>\n",
       "      <td>`Age, Continuous`, `Sex: Female`, `Menopausal ...</td>\n",
       "      <td>`Age, Continuous`, `Sex: Female`, `Region of E...</td>\n",
       "    </tr>\n",
       "  </tbody>\n",
       "</table>\n",
       "</div>"
      ],
      "text/plain": [
       "         NCTId                                         BriefTitle  \\\n",
       "0  NCT00000620  Action to Control Cardiovascular Risk in Diabe...   \n",
       "1  NCT00003901  Prognostic Study of Metastases in Patients Wit...   \n",
       "2  NCT00005879  LY353381 in Preventing Breast Cancer in Women ...   \n",
       "\n",
       "                                 EligibilityCriteria  \\\n",
       "0  Inclusion Criteria:\\n\\n* Diagnosed with type 2...   \n",
       "1  Inclusion Criteria:\\n\\n1. Patient must be ≥ 18...   \n",
       "2  DISEASE CHARACTERISTICS:\\n\\n* Current random f...   \n",
       "\n",
       "                                        BriefSummary  \\\n",
       "0  The purpose of this study is to prevent major ...   \n",
       "1  RATIONALE: Prognostic testing for early signs ...   \n",
       "2  RATIONALE: Chemoprevention therapy is the use ...   \n",
       "\n",
       "                                          Conditions  \\\n",
       "0  Atherosclerosis, Cardiovascular Diseases, Hype...   \n",
       "1                                      Lung Cancer,    \n",
       "2                                    Breast Cancer,    \n",
       "\n",
       "                                       Interventions  \\\n",
       "0  Anti-hyperglycemic Agents, Anti-hypertensive A...   \n",
       "1  immunohistochemistry staining method, biopsy, ...   \n",
       "2                              arzoxifene, Placebo,    \n",
       "\n",
       "                                     PrimaryOutcomes    TrialGroup  \\\n",
       "0  First Occurrence of a Major Cardiovascular Eve...  hypertension   \n",
       "1  Overall Survival in Lymph Nodes Examined Patie...        cancer   \n",
       "2  Change in Masood Score, Number of Participants...        cancer   \n",
       "\n",
       "                                API_BaselineMeasures  \\\n",
       "0  Age, Continuous, Gender, Ethnicity (NIH/OMB), ...   \n",
       "1  Age, Continuous, Gender, Race/Ethnicity, Custo...   \n",
       "2  Age, Continuous, Sex: Female, Male, Region of ...   \n",
       "\n",
       "                      API_BaselineMeasures_Corrected  \\\n",
       "0  `Age, Continuous`, `Gender`, `Ethnicity (NIH/O...   \n",
       "1  `Age, Continuous`, `Gender`, `Race/Ethnicity, ...   \n",
       "2  `Age, Continuous`, `Sex: Female, Male`, `Regio...   \n",
       "\n",
       "                                    gpt4o_rag_ts_gen  \\\n",
       "0                                                NaN   \n",
       "1  `Age, Continuous`, `Sex: Female, Male`, `Race ...   \n",
       "2  `Age, Continuous`, `Sex: Female`, `Menopausal ...   \n",
       "\n",
       "                            llama3_70b_it_rag_ts_gen  \n",
       "0                                                NaN  \n",
       "1  `Age, Continuous`, `Sex: Female, Male`, `Ethni...  \n",
       "2  `Age, Continuous`, `Sex: Female`, `Region of E...  "
      ]
     },
     "execution_count": 72,
     "metadata": {},
     "output_type": "execute_result"
    }
   ],
   "source": [
    "data.head(3)"
   ]
  },
  {
   "cell_type": "code",
   "execution_count": 73,
   "metadata": {},
   "outputs": [
    {
     "data": {
      "text/plain": [
       "3"
      ]
     },
     "execution_count": 73,
     "metadata": {},
     "output_type": "execute_result"
    }
   ],
   "source": [
    "#get ids where llama3_70b_it_rag_ts_gen is None \n",
    "empty_lists = data[data['llama3_70b_it_rag_ts_gen'].isnull()].NCTId.values.tolist()\n",
    "len(empty_lists)"
   ]
  },
  {
   "cell_type": "markdown",
   "metadata": {},
   "source": [
    "# Llama3 Generation with RAG (3-shot) "
   ]
  },
  {
   "cell_type": "code",
   "execution_count": 74,
   "metadata": {},
   "outputs": [
    {
     "name": "stdout",
     "output_type": "stream",
     "text": [
      "LLM is explicitly disabled. Using MockLLM.\n"
     ]
    },
    {
     "name": "stderr",
     "output_type": "stream",
     "text": [
      "Batches: 100%|██████████| 1/1 [00:00<00:00,  5.98it/s]\n",
      "Batches: 100%|██████████| 1/1 [00:00<00:00,  2.62it/s]\n",
      "Batches: 100%|██████████| 1/1 [00:00<00:00,  7.16it/s]\n",
      "Batches: 100%|██████████| 1/1 [00:00<00:00,  7.44it/s]\n",
      "Batches: 100%|██████████| 1/1 [00:00<00:00,  7.12it/s]\n",
      "Batches: 100%|██████████| 1/1 [00:00<00:00,  8.04it/s]\n",
      "Batches: 100%|██████████| 1/1 [00:00<00:00,  7.02it/s]\n",
      "1693it [01:03, 26.86it/s]\n"
     ]
    }
   ],
   "source": [
    "from llama_index.embeddings.huggingface import HuggingFaceEmbedding\n",
    "from llama_index.core import Settings\n",
    "\n",
    "import logging\n",
    "logger = logging.getLogger(__name__)\n",
    "logging.basicConfig(\n",
    "    filename='llama3_rag_gen_1000.log',\n",
    "    filemode='a',\n",
    "    format='%(asctime)s - %(name)s - %(levelname)s - %(message)s',\n",
    "    datefmt='%d-%b-%y %H:%M:%S',\n",
    "    encoding='utf-8',\n",
    "    level=logging.INFO,\n",
    "    force=True\n",
    ")\n",
    "\n",
    "number_of_similar_trials = 3\n",
    "model_name   = models['gpt-4o']\n",
    "model_hf_endpoint = models['llama3_1-70b-it']\n",
    "\n",
    "embed_model = HuggingFaceEmbedding(model_name=\"dmis-lab/biobert-base-cased-v1.2\")\n",
    "Settings.embed_model = embed_model\n",
    "Settings.llm = None \n",
    "\n",
    "#data['llama3_70b_it_rag_ts_gen'] = None \n",
    "\n",
    "for index, row in tqdm(data.iterrows()):\n",
    "\n",
    "    #print(row['NCTId'])\n",
    "    #AVOID these trials that were used as three-shot examples only\n",
    "    example_trials_to_avoid = ['NCT00000620', 'NCT01483560', 'NCT04280783']\n",
    "    if row['NCTId'] in example_trials_to_avoid:\n",
    "        logging.info(f\"Skipping {row['NCTId']} as it was used as a three-shot example\")\n",
    "        continue\n",
    "\n",
    "    #run only IDs that are in empty_lists\n",
    "    if row['NCTId'] not in eval_error_ids:\n",
    "        continue\n",
    "\n",
    "    file_name = row['NCTId'] + '.json'\n",
    "    query_trial = json_file_to_rag_query(file_name, input_json_directory) #string query for searching rag database only\n",
    "\n",
    "    \n",
    "    #run rag query and find the filenames of similar trials\n",
    "    similar_trials = module.query_clinical_trials_using_llamaindex(chroma_collection, vector_store_path,  \n",
    "                                                                query_trial, top_k=number_of_similar_trials,\n",
    "                                                                embed_model=embed_model)\n",
    "    \n",
    "    # print(similar_trials)\n",
    "\n",
    "    #get system message, question \n",
    "    system_message, question = module.build_three_shot_prompt(row, similar_trials, rag_json_directory, \n",
    "                                                            ref_col_name='API_BaselineMeasures_Corrected') #which column to use for reference in RAG examples from ctrepo\n",
    "\n",
    "    model_query = module.system_user_template(system_message, question)\n",
    "\n",
    "    try:\n",
    "        model_response = module.run_generation_single_hf_models(model_query, model_hf_endpoint, \n",
    "                                                        os.environ['HF_TOKEN'], temperature=0.0)\n",
    "        logging.info(f\"Generated response for {row['NCTId']} at index {index}\")\n",
    "        data.at[index, 'llama3_70b_it_rag_ts_gen'] = model_response\n",
    "\n",
    "    #Note: Weird Bug: UnprocessableEntityError: Error code: 422 - {'error': 'Input validation error: `inputs` tokens + `max_new_tokens` must be <= 8192. Given: 7573 `inputs` tokens and 1000 `max_new_tokens`', 'error_type': 'validation'}\n",
    "    except Exception as e:\n",
    "        print(f\"An error occurred while processing trial {row['NCTId']}: {e}\")\n",
    "        logging.error(f\"Error {e} in generating response for {row['NCTId']} at index {index}\")\n",
    "        data.at[index, 'llama3_70b_it_rag_ts_gen'] = None\n",
    "        continue\n",
    "\n",
    "    #print \n",
    "    # print(system_message)\n",
    "    # print(question)\n",
    "    # print(model_response)\n",
    "    # break"
   ]
  },
  {
   "cell_type": "code",
   "execution_count": 75,
   "metadata": {},
   "outputs": [
    {
     "data": {
      "text/plain": [
       "NCTId                             0\n",
       "BriefTitle                        0\n",
       "EligibilityCriteria               0\n",
       "BriefSummary                      0\n",
       "Conditions                        0\n",
       "Interventions                     0\n",
       "PrimaryOutcomes                   0\n",
       "TrialGroup                        0\n",
       "API_BaselineMeasures              0\n",
       "API_BaselineMeasures_Corrected    0\n",
       "gpt4o_rag_ts_gen                  3\n",
       "llama3_70b_it_rag_ts_gen          3\n",
       "dtype: int64"
      ]
     },
     "execution_count": 75,
     "metadata": {},
     "output_type": "execute_result"
    }
   ],
   "source": [
    "data.isna().sum()"
   ]
  },
  {
   "cell_type": "code",
   "execution_count": 76,
   "metadata": {},
   "outputs": [],
   "source": [
    "data.to_csv('../data/hidden_data/biobert_embed/CT-Repo-rag-biobert-allgen.csv', index=False)"
   ]
  },
  {
   "cell_type": "markdown",
   "metadata": {},
   "source": [
    "## GPT4 Evaluation"
   ]
  },
  {
   "cell_type": "code",
   "execution_count": 78,
   "metadata": {},
   "outputs": [],
   "source": [
    "eval_data = pd.read_csv('../data/hidden_data/biobert_embed/CT-Repo-rag-biobert-alleval.csv')"
   ]
  },
  {
   "cell_type": "code",
   "execution_count": 79,
   "metadata": {},
   "outputs": [
    {
     "data": {
      "text/plain": [
       "['NCT01364584',\n",
       " 'NCT01452412',\n",
       " 'NCT02337946',\n",
       " 'NCT02966028',\n",
       " 'NCT03197038',\n",
       " 'NCT03686150',\n",
       " 'NCT03923933']"
      ]
     },
     "execution_count": 79,
     "metadata": {},
     "output_type": "execute_result"
    }
   ],
   "source": [
    "eval_error_ids"
   ]
  },
  {
   "cell_type": "code",
   "execution_count": 80,
   "metadata": {},
   "outputs": [
    {
     "name": "stdout",
     "output_type": "stream",
     "text": [
      "NCT01364584\n",
      "NCT01452412\n",
      "NCT02337946\n",
      "NCT02966028\n",
      "NCT03197038\n",
      "NCT03686150\n",
      "NCT03923933\n"
     ]
    }
   ],
   "source": [
    "import json\n",
    "from tqdm import tqdm\n",
    "\n",
    "import logging\n",
    "logger = logging.getLogger(__name__)\n",
    "logging.basicConfig(\n",
    "    filename='ctrepo_rag_eval_1000.log',\n",
    "    filemode='a',\n",
    "    format='%(asctime)s - %(name)s - %(levelname)s - %(message)s',\n",
    "    datefmt='%d-%b-%y %H:%M:%S',\n",
    "    encoding='utf-8',\n",
    "    level=logging.INFO,\n",
    "    force=True\n",
    ")\n",
    "\n",
    "logging.info(\"Evaluating again with GPT4o 2000 eval max tokens for affected IDs only\")\n",
    "\n",
    "#llama_error_ids = []\n",
    "\n",
    "for index, row in data.iterrows():\n",
    "\n",
    "    example_trials_to_avoid = ['NCT00000620', 'NCT01483560', 'NCT04280783']\n",
    "    if row['NCTId'] in example_trials_to_avoid:\n",
    "        logging.info(f\"Skipping {row['NCTId']} as it was used as a three-shot example at index {index}\")\n",
    "        continue\n",
    "\n",
    "   #run only IDs that are in empty_lists\n",
    "    if row['NCTId'] not in eval_error_ids:\n",
    "        continue\n",
    "    \n",
    "\n",
    "    print(row['NCTId'])\n",
    "    qstart = module.get_question_from_row(row)\n",
    "\n",
    "    reference_list = module.extract_elements_v2(row['API_BaselineMeasures_Corrected']) #which column to use for reference as input from ctpub\n",
    "    \n",
    "    candidate_gts = module.extract_elements_v2(row['gpt4o_rag_ts_gen'])\n",
    "    candidate_lts = module.extract_elements_v2(row['llama3_70b_it_rag_ts_gen'])\n",
    "    \n",
    "    system_message_gts, question_gts = module.build_gpt4_eval_prompt(reference_list,\n",
    "                                                            candidate_gts,\n",
    "                                                            qstart)\n",
    "    \n",
    "    \n",
    "    system_message_lts, question_lts = module.build_gpt4_eval_prompt(reference_list,\n",
    "                                                            candidate_lts,\n",
    "                                                            qstart)\n",
    "    \n",
    "\n",
    "    try:\n",
    "        eval_model_response_gts = module.run_evaluation_with_gpt4o(system_message_gts, question_gts, os.environ[\"OPENAI_API_KEY\"])\n",
    "        eval_data.at[index, 'gpt4o_ts_gen_matches'] = eval_model_response_gts\n",
    "    except Exception as e:\n",
    "        logging.error(f\"Error {e} in generating response for {row['NCTId']} at index {index}\")\n",
    "        print(f\"Error {e} in generating response for {row['NCTId']} at index {index}\")\n",
    "        eval_data.at[index, 'gpt4o_ts_gen_matches'] = None\n",
    "        continue\n",
    "    \n",
    "    try:\n",
    "        eval_model_response_lts = module.run_evaluation_with_gpt4o(system_message_lts, question_lts, os.environ[\"OPENAI_API_KEY\"])\n",
    "        eval_data.at[index, 'llama3_70b_it_ts_gen_matches'] = eval_model_response_lts\n",
    "        logging.info(f\"Generated response for {row['NCTId']} at index {index}\")\n",
    "    except Exception as e:\n",
    "        logging.error(f\"Error {e} in generating response for {row['NCTId']} at index {index}\")\n",
    "        print(f\"Error {e} in generating response for {row['NCTId']} at index {index}\")\n",
    "        eval_data.at[index, 'llama3_70b_it_ts_gen_matches'] = None\n",
    "        continue\n",
    "\n",
    "    # if index%50==0:\n",
    "    #     eval_data.to_csv(f'../data/hidden_data/biobert_embed/no_release/CT-Repo-1000-Samples-rag-biobert-alleval_{index}.csv', index=False)\n",
    "    #break\n",
    "\n",
    "#logging.info(f\"Error ids: {llama_error_ids}\")\n",
    "#eval_data.to_csv('../data/hidden_data/biobert_embed/CT-Repo-1000-Samples-rag-biobert-alleval.csv', index=False)\n",
    "    \n"
   ]
  },
  {
   "cell_type": "code",
   "execution_count": 81,
   "metadata": {},
   "outputs": [],
   "source": [
    "eval_data.to_csv('../data/hidden_data/biobert_embed/CT-Repo-rag-biobert-alleval.csv', index=False)"
   ]
  },
  {
   "cell_type": "code",
   "execution_count": 82,
   "metadata": {},
   "outputs": [
    {
     "name": "stdout",
     "output_type": "stream",
     "text": [
      "{\n",
      "    \"matched_features\": [\n",
      "        [\"Age, Continuous\", \"Age, Continuous\"],\n",
      "        [\"Sex: Female, Male\", \"Sex: Female\"],\n",
      "        [\"Menopause Status\", \"Menopausal Status\"],\n",
      "        [\"Hormone Use\", \"Hormone Replacement Therapy Use\"],\n",
      "        [\"Number relatives with Breast Cancer\", \"Family History of Breast Cancer\"]\n",
      "    ],\n",
      "    \"remaining_reference_features\": [\n",
      "        \"Region of Enrollment\",\n",
      "        \"Height\",\n",
      "        \"Weight\",\n",
      "        \"BMI\",\n",
      "        \"Age at Menarche\",\n",
      "        \"Age at First Live Birth\",\n",
      "        \"Prior Biopsy\"\n",
      "    ],\n",
      "    \"remaining_candidate_features\": [\n",
      "        \"BRCA1/BRCA2 Mutation Status\",\n",
      "        \"Oral Contraceptive Use\",\n",
      "        \"Baseline Masood Score\",\n",
      "        \"Hemoglobin\",\n",
      "        \"Granulocyte Count\",\n",
      "        \"Albumin\",\n",
      "        \"Bilirubin\",\n",
      "        \"AST\",\n",
      "        \"Alkaline Phosphatase\",\n",
      "        \"Creatinine\",\n",
      "        \"History of Deep Venous Thrombosis\",\n",
      "        \"History of Coronary Artery Disease\",\n",
      "        \"History of Stroke\",\n",
      "        \"Factor V Leiden Mutation Status\",\n",
      "        \"Use of Effective Contraception\"\n",
      "    ]\n",
      "}\n"
     ]
    }
   ],
   "source": [
    "print(eval_data.at[2, 'gpt4o_ts_gen_matches'])"
   ]
  },
  {
   "cell_type": "markdown",
   "metadata": {},
   "source": [
    "## Score Calculation (Whole 1700 Trials)"
   ]
  },
  {
   "cell_type": "code",
   "execution_count": 83,
   "metadata": {},
   "outputs": [
    {
     "data": {
      "text/plain": [
       "NCTId                           0\n",
       "gpt4o_ts_gen_matches            3\n",
       "llama3_70b_it_ts_gen_matches    3\n",
       "dtype: int64"
      ]
     },
     "execution_count": 83,
     "metadata": {},
     "output_type": "execute_result"
    }
   ],
   "source": [
    "eval_data.isna().sum()"
   ]
  },
  {
   "cell_type": "code",
   "execution_count": 84,
   "metadata": {},
   "outputs": [
    {
     "data": {
      "text/plain": [
       "(1693, 3)"
      ]
     },
     "execution_count": 84,
     "metadata": {},
     "output_type": "execute_result"
    }
   ],
   "source": [
    "eval_data.shape"
   ]
  },
  {
   "cell_type": "code",
   "execution_count": 85,
   "metadata": {},
   "outputs": [],
   "source": [
    "score_df = pd.DataFrame()\n",
    "score_df['NCTId'] = data['NCTId']"
   ]
  },
  {
   "cell_type": "code",
   "execution_count": 86,
   "metadata": {},
   "outputs": [
    {
     "name": "stderr",
     "output_type": "stream",
     "text": [
      "1693it [00:00, 17796.35it/s]"
     ]
    },
    {
     "name": "stdout",
     "output_type": "stream",
     "text": [
      "An error occurred while processing trial NCT03923933: Unterminated string starting at: line 627 column 9 (char 23154)\n"
     ]
    },
    {
     "name": "stderr",
     "output_type": "stream",
     "text": [
      "\n"
     ]
    }
   ],
   "source": [
    "import json \n",
    "\n",
    "gts_sum = {'precision':0, 'recall':0, 'f1':0}\n",
    "lts_sum = {'precision':0, 'recall':0, 'f1':0}\n",
    "\n",
    "total_count = 0\n",
    "\n",
    "eval_error_ids = []\n",
    "\n",
    "for index, row in tqdm(eval_data.iterrows()):\n",
    "    avoid_ids = ['NCT00000620', 'NCT01483560', 'NCT04280783'] #these were used as examples for 3-shot generation\n",
    "    if row['NCTId'] in avoid_ids:\n",
    "        continue\n",
    "    if not row['llama3_70b_it_ts_gen_matches'] or not row['gpt4o_ts_gen_matches']:\n",
    "        continue\n",
    "\n",
    "    #print(row['NCTId'])\n",
    "    \n",
    "    try:\n",
    "        # gts\n",
    "        gts_dict = json.loads(row['gpt4o_ts_gen_matches'])\n",
    "        gts_matches = gts_dict['matched_features']\n",
    "        gts_remaining_references = gts_dict['remaining_reference_features']\n",
    "        gts_remaining_candidates = gts_dict['remaining_candidate_features']\n",
    "        gts_score = module.match_to_score(gts_matches, gts_remaining_references, gts_remaining_candidates)\n",
    "        score_df.at[index, 'gpt4o_ts_gen_scores'] = json.dumps(gts_score)\n",
    "        gts_sum['precision'] += gts_score['precision']\n",
    "        gts_sum['recall'] += gts_score['recall']\n",
    "        gts_sum['f1'] += gts_score['f1']\n",
    "\n",
    "        # lts \n",
    "        lts_dict = json.loads(row['llama3_70b_it_ts_gen_matches'])\n",
    "        lts_matches = lts_dict['matched_features']\n",
    "        lts_remaining_references = lts_dict['remaining_reference_features']\n",
    "        lts_remaining_candidates = lts_dict['remaining_candidate_features']\n",
    "        lts_score = module.match_to_score(lts_matches, lts_remaining_references, lts_remaining_candidates)\n",
    "        score_df.at[index, 'llama3_70b_it_ts_gen_scores'] = json.dumps(lts_score)\n",
    "        lts_sum['precision'] += lts_score['precision']\n",
    "        lts_sum['recall'] += lts_score['recall']\n",
    "        lts_sum['f1'] += lts_score['f1']\n",
    "\n",
    "        total_count += 1\n",
    "\n",
    "    except Exception as e:\n",
    "        print(f\"An error occurred while processing trial {row['NCTId']}: {e}\")\n",
    "        eval_error_ids.append(row['NCTId'])\n",
    "        continue\n",
    "\n",
    "    #break\n",
    "\n"
   ]
  },
  {
   "cell_type": "code",
   "execution_count": 87,
   "metadata": {},
   "outputs": [
    {
     "data": {
      "text/plain": [
       "['NCT03923933']"
      ]
     },
     "execution_count": 87,
     "metadata": {},
     "output_type": "execute_result"
    }
   ],
   "source": [
    "eval_error_ids"
   ]
  },
  {
   "cell_type": "code",
   "execution_count": 88,
   "metadata": {},
   "outputs": [
    {
     "data": {
      "text/html": [
       "<div>\n",
       "<style scoped>\n",
       "    .dataframe tbody tr th:only-of-type {\n",
       "        vertical-align: middle;\n",
       "    }\n",
       "\n",
       "    .dataframe tbody tr th {\n",
       "        vertical-align: top;\n",
       "    }\n",
       "\n",
       "    .dataframe thead th {\n",
       "        text-align: right;\n",
       "    }\n",
       "</style>\n",
       "<table border=\"1\" class=\"dataframe\">\n",
       "  <thead>\n",
       "    <tr style=\"text-align: right;\">\n",
       "      <th></th>\n",
       "      <th>NCTId</th>\n",
       "      <th>gpt4o_ts_gen_scores</th>\n",
       "      <th>llama3_70b_it_ts_gen_scores</th>\n",
       "    </tr>\n",
       "  </thead>\n",
       "  <tbody>\n",
       "    <tr>\n",
       "      <th>0</th>\n",
       "      <td>NCT00000620</td>\n",
       "      <td>NaN</td>\n",
       "      <td>NaN</td>\n",
       "    </tr>\n",
       "    <tr>\n",
       "      <th>1</th>\n",
       "      <td>NCT00003901</td>\n",
       "      <td>{\"precision\": 0.7777777777777778, \"recall\": 0....</td>\n",
       "      <td>{\"precision\": 0.5555555555555556, \"recall\": 0....</td>\n",
       "    </tr>\n",
       "    <tr>\n",
       "      <th>2</th>\n",
       "      <td>NCT00005879</td>\n",
       "      <td>{\"precision\": 0.25, \"recall\": 0.41666666666666...</td>\n",
       "      <td>{\"precision\": 0.4166666666666667, \"recall\": 0....</td>\n",
       "    </tr>\n",
       "    <tr>\n",
       "      <th>3</th>\n",
       "      <td>NCT00005908</td>\n",
       "      <td>{\"precision\": 0.16666666666666666, \"recall\": 0...</td>\n",
       "      <td>{\"precision\": 0.25, \"recall\": 0.5, \"f1\": 0.333...</td>\n",
       "    </tr>\n",
       "    <tr>\n",
       "      <th>4</th>\n",
       "      <td>NCT00006110</td>\n",
       "      <td>{\"precision\": 0.21428571428571427, \"recall\": 0...</td>\n",
       "      <td>{\"precision\": 0.2, \"recall\": 0.428571428571428...</td>\n",
       "    </tr>\n",
       "  </tbody>\n",
       "</table>\n",
       "</div>"
      ],
      "text/plain": [
       "         NCTId                                gpt4o_ts_gen_scores  \\\n",
       "0  NCT00000620                                                NaN   \n",
       "1  NCT00003901  {\"precision\": 0.7777777777777778, \"recall\": 0....   \n",
       "2  NCT00005879  {\"precision\": 0.25, \"recall\": 0.41666666666666...   \n",
       "3  NCT00005908  {\"precision\": 0.16666666666666666, \"recall\": 0...   \n",
       "4  NCT00006110  {\"precision\": 0.21428571428571427, \"recall\": 0...   \n",
       "\n",
       "                         llama3_70b_it_ts_gen_scores  \n",
       "0                                                NaN  \n",
       "1  {\"precision\": 0.5555555555555556, \"recall\": 0....  \n",
       "2  {\"precision\": 0.4166666666666667, \"recall\": 0....  \n",
       "3  {\"precision\": 0.25, \"recall\": 0.5, \"f1\": 0.333...  \n",
       "4  {\"precision\": 0.2, \"recall\": 0.428571428571428...  "
      ]
     },
     "execution_count": 88,
     "metadata": {},
     "output_type": "execute_result"
    }
   ],
   "source": [
    "score_df.head()"
   ]
  },
  {
   "cell_type": "markdown",
   "metadata": {},
   "source": [
    "New Score"
   ]
  },
  {
   "cell_type": "code",
   "execution_count": 102,
   "metadata": {},
   "outputs": [
    {
     "name": "stdout",
     "output_type": "stream",
     "text": [
      "GPT-4o Three Shot Scores: Precision=0.45989216975047625 Recall=0.6339730760819745 F1=0.5010950848650941\n",
      "Llama-3 70B Instruct Three Shot Scores: Precision=0.482190981343621 Recall=0.6252284937268767 F1=0.5163080729745275\n"
     ]
    }
   ],
   "source": [
    "size = eval_data.shape[0] - len(eval_error_ids)\n",
    "print(f\"GPT-4o Three Shot Scores: Precision={gts_sum['precision']/size} Recall={gts_sum['recall']/size} F1={gts_sum['f1']/size}\")\n",
    "print(f\"Llama-3 70B Instruct Three Shot Scores: Precision={lts_sum['precision']/size} Recall={lts_sum['recall']/size} F1={lts_sum['f1']/size}\")\n"
   ]
  },
  {
   "cell_type": "code",
   "execution_count": 90,
   "metadata": {},
   "outputs": [
    {
     "name": "stdout",
     "output_type": "stream",
     "text": [
      "GPT-4o Three Shot Scores: Precision=0.4574058059746241 Recall=0.6339029669924033 F1=0.4990967535520557\n",
      "Llama-3 70B Instruct Three Shot Scores: Precision=0.4825286746822389 Recall=0.628152797930514 F1=0.5176417915705456\n"
     ]
    }
   ],
   "source": [
    "size = eval_data.shape[0] - len(eval_error_ids)\n",
    "print(f\"GPT-4o Three Shot Scores: Precision={gts_sum['precision']/size} Recall={gts_sum['recall']/size} F1={gts_sum['f1']/size}\")\n",
    "print(f\"Llama-3 70B Instruct Three Shot Scores: Precision={lts_sum['precision']/size} Recall={lts_sum['recall']/size} F1={lts_sum['f1']/size}\")"
   ]
  }
 ],
 "metadata": {
  "kernelspec": {
   "display_name": "ctbench_rag",
   "language": "python",
   "name": "python3"
  },
  "language_info": {
   "codemirror_mode": {
    "name": "ipython",
    "version": 3
   },
   "file_extension": ".py",
   "mimetype": "text/x-python",
   "name": "python",
   "nbconvert_exporter": "python",
   "pygments_lexer": "ipython3",
   "version": "3.9.6"
  }
 },
 "nbformat": 4,
 "nbformat_minor": 2
}
