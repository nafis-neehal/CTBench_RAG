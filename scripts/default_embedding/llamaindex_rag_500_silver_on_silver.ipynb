{
 "cells": [
  {
   "cell_type": "markdown",
   "metadata": {},
   "source": [
    "## We are running CT_Pub data using ct_repo indexed stores"
   ]
  },
  {
   "cell_type": "code",
   "execution_count": 1,
   "metadata": {},
   "outputs": [],
   "source": [
    "%load_ext autoreload\n",
    "%autoreload 2"
   ]
  },
  {
   "cell_type": "code",
   "execution_count": 2,
   "metadata": {},
   "outputs": [],
   "source": [
    "import json \n",
    "import pandas as pd \n",
    "from dotenv import load_dotenv\n",
    "from model_list import models \n",
    "import chromadb\n",
    "import openai\n",
    "import module \n",
    "import os \n",
    "from tqdm import tqdm "
   ]
  },
  {
   "cell_type": "code",
   "execution_count": 3,
   "metadata": {},
   "outputs": [],
   "source": [
    "load_dotenv()\n",
    "os.environ['OPENAI_API_KEY'] = os.getenv('OPENAI_API_KEY_TEAM')\n",
    "os.environ['HF_TOKEN'] = os.getenv('HF_TOKEN')"
   ]
  },
  {
   "cell_type": "code",
   "execution_count": 4,
   "metadata": {},
   "outputs": [
    {
     "data": {
      "text/html": [
       "<div>\n",
       "<style scoped>\n",
       "    .dataframe tbody tr th:only-of-type {\n",
       "        vertical-align: middle;\n",
       "    }\n",
       "\n",
       "    .dataframe tbody tr th {\n",
       "        vertical-align: top;\n",
       "    }\n",
       "\n",
       "    .dataframe thead th {\n",
       "        text-align: right;\n",
       "    }\n",
       "</style>\n",
       "<table border=\"1\" class=\"dataframe\">\n",
       "  <thead>\n",
       "    <tr style=\"text-align: right;\">\n",
       "      <th></th>\n",
       "      <th>NCTId</th>\n",
       "      <th>BriefTitle</th>\n",
       "      <th>EligibilityCriteria</th>\n",
       "      <th>BriefSummary</th>\n",
       "      <th>Conditions</th>\n",
       "      <th>Interventions</th>\n",
       "      <th>PrimaryOutcomes</th>\n",
       "      <th>TrialGroup</th>\n",
       "      <th>API_BaselineMeasures</th>\n",
       "      <th>API_BaselineMeasures_Corrected</th>\n",
       "    </tr>\n",
       "  </thead>\n",
       "  <tbody>\n",
       "    <tr>\n",
       "      <th>0</th>\n",
       "      <td>NCT01743001</td>\n",
       "      <td>Clinical Study to Evaluate the Effects of Maci...</td>\n",
       "      <td>Inclusion Criteria:\\n\\n* Subjects:\\n\\n  * not ...</td>\n",
       "      <td>Clinical study to assess the efficacy, safety,...</td>\n",
       "      <td>Pulmonary Arterial Hypertension,</td>\n",
       "      <td>Macitentan 10 mg, Placebo,</td>\n",
       "      <td>Change From Baseline to Week 16 in Exercise Ca...</td>\n",
       "      <td>hypertension</td>\n",
       "      <td>Age, Continuous, Age, Customized, Sex: Female,...</td>\n",
       "      <td>`Age, Continuous`, `Age, Customized`, `Sex: Fe...</td>\n",
       "    </tr>\n",
       "    <tr>\n",
       "      <th>1</th>\n",
       "      <td>NCT03439189</td>\n",
       "      <td>Companion Protocol for Methacetin Breath Test ...</td>\n",
       "      <td>Inclusion Criteria:\\n\\n1. Male or female subje...</td>\n",
       "      <td>To validate the ability of the Methacetin Brea...</td>\n",
       "      <td>NASH - Nonalcoholic Steatohepatitis, Cirrhosis...</td>\n",
       "      <td>Methacetin Breath Test, Emricasan, Placebo ora...</td>\n",
       "      <td>Number of Subjects With Matched Clinically Sig...</td>\n",
       "      <td>hypertension</td>\n",
       "      <td>Age, Continuous, Sex: Female, Male, Ethnicity ...</td>\n",
       "      <td>`Age, Continuous`, `Sex: Female, Male`, `Ethni...</td>\n",
       "    </tr>\n",
       "    <tr>\n",
       "      <th>2</th>\n",
       "      <td>NCT00458003</td>\n",
       "      <td>Phenylephrine in Spinal Anesthesia in Preeclam...</td>\n",
       "      <td>Inclusion Criteria:\\n\\n* ASA PS II - III women...</td>\n",
       "      <td>Hypotension remains a common clinical problem ...</td>\n",
       "      <td>Preeclampsia, Hypotension,</td>\n",
       "      <td>Ephedrine, Phenylephrine,</td>\n",
       "      <td>The Umbilical Artery pH,</td>\n",
       "      <td>hypertension</td>\n",
       "      <td>Age, Categorical, Sex: Female, Male, Region of...</td>\n",
       "      <td>`Age, Categorical`, `Sex: Female, Male`, `Regi...</td>\n",
       "    </tr>\n",
       "  </tbody>\n",
       "</table>\n",
       "</div>"
      ],
      "text/plain": [
       "         NCTId                                         BriefTitle  \\\n",
       "0  NCT01743001  Clinical Study to Evaluate the Effects of Maci...   \n",
       "1  NCT03439189  Companion Protocol for Methacetin Breath Test ...   \n",
       "2  NCT00458003  Phenylephrine in Spinal Anesthesia in Preeclam...   \n",
       "\n",
       "                                 EligibilityCriteria  \\\n",
       "0  Inclusion Criteria:\\n\\n* Subjects:\\n\\n  * not ...   \n",
       "1  Inclusion Criteria:\\n\\n1. Male or female subje...   \n",
       "2  Inclusion Criteria:\\n\\n* ASA PS II - III women...   \n",
       "\n",
       "                                        BriefSummary  \\\n",
       "0  Clinical study to assess the efficacy, safety,...   \n",
       "1  To validate the ability of the Methacetin Brea...   \n",
       "2  Hypotension remains a common clinical problem ...   \n",
       "\n",
       "                                          Conditions  \\\n",
       "0                  Pulmonary Arterial Hypertension,    \n",
       "1  NASH - Nonalcoholic Steatohepatitis, Cirrhosis...   \n",
       "2                        Preeclampsia, Hypotension,    \n",
       "\n",
       "                                       Interventions  \\\n",
       "0                        Macitentan 10 mg, Placebo,    \n",
       "1  Methacetin Breath Test, Emricasan, Placebo ora...   \n",
       "2                         Ephedrine, Phenylephrine,    \n",
       "\n",
       "                                     PrimaryOutcomes    TrialGroup  \\\n",
       "0  Change From Baseline to Week 16 in Exercise Ca...  hypertension   \n",
       "1  Number of Subjects With Matched Clinically Sig...  hypertension   \n",
       "2                          The Umbilical Artery pH,   hypertension   \n",
       "\n",
       "                                API_BaselineMeasures  \\\n",
       "0  Age, Continuous, Age, Customized, Sex: Female,...   \n",
       "1  Age, Continuous, Sex: Female, Male, Ethnicity ...   \n",
       "2  Age, Categorical, Sex: Female, Male, Region of...   \n",
       "\n",
       "                      API_BaselineMeasures_Corrected  \n",
       "0  `Age, Continuous`, `Age, Customized`, `Sex: Fe...  \n",
       "1  `Age, Continuous`, `Sex: Female, Male`, `Ethni...  \n",
       "2  `Age, Categorical`, `Sex: Female, Male`, `Regi...  "
      ]
     },
     "execution_count": 4,
     "metadata": {},
     "output_type": "execute_result"
    }
   ],
   "source": [
    "data = pd.read_csv('../data/CT-Repo-With-Examples-Corrected-500-Sample.csv')\n",
    "data.head(3)"
   ]
  },
  {
   "cell_type": "code",
   "execution_count": 5,
   "metadata": {},
   "outputs": [
    {
     "name": "stderr",
     "output_type": "stream",
     "text": [
      "/Users/nafisneehal/Desktop/CTBench_RAG/ctbench_rag/lib/python3.9/site-packages/urllib3/__init__.py:35: NotOpenSSLWarning: urllib3 v2 only supports OpenSSL 1.1.1+, currently the 'ssl' module is compiled with 'LibreSSL 2.8.3'. See: https://github.com/urllib3/urllib3/issues/3020\n",
      "  warnings.warn(\n"
     ]
    }
   ],
   "source": [
    "#main_path = '/Users/nafisneehal/Desktop/CTBench_RAG/'\n",
    "\n",
    "# Initialize ChromaDB\n",
    "# Directory containing JSON files\n",
    "input_json_directory = '../data/ctrepo_500_sample_json' #source of input json files\n",
    "rag_json_directory = '../data/ctrepo_json' #source of example json files\n",
    "vector_store_path = '../chroma_db_ctrepo' #search the ctrepo vector store for examples \n",
    "\n",
    "# #initialize client \n",
    "c_db = chromadb.PersistentClient(path=vector_store_path)\n",
    "#get collection\n",
    "chroma_collection = c_db.get_or_create_collection(\"ctrepo_all\") #located in df_to_json_and_indexing.ipynb file "
   ]
  },
  {
   "cell_type": "code",
   "execution_count": 6,
   "metadata": {},
   "outputs": [],
   "source": [
    "def json_file_to_rag_query(file_name, json_directory):\n",
    "    with open(f\"{json_directory}/{file_name}\", \"r\") as file:\n",
    "        trial_data = json.load(file)\n",
    "        trial_query = f\"\"\"\n",
    "        BriefTitle: {trial_data['BriefTitle']}\\n\n",
    "        EligibilityCriteria: {trial_data['EligibilityCriteria']}\\n \n",
    "        BriefSummary: {trial_data['BriefSummary']}\\n\n",
    "        Conditions: {trial_data['Conditions']}\\n\n",
    "        Interventions: {trial_data['Interventions']}\\n\n",
    "        PrimaryOutcomes: {trial_data['PrimaryOutcomes']}\n",
    "        \"\"\"\n",
    "        return trial_query"
   ]
  },
  {
   "cell_type": "markdown",
   "metadata": {},
   "source": [
    "# GPT-4o Generation with RAG (3 shot) "
   ]
  },
  {
   "cell_type": "code",
   "execution_count": 7,
   "metadata": {},
   "outputs": [
    {
     "name": "stderr",
     "output_type": "stream",
     "text": [
      "500it [29:27,  3.54s/it]\n"
     ]
    }
   ],
   "source": [
    "number_of_similar_trials = 3\n",
    "model_name   = models['gpt-4o']\n",
    "\n",
    "data['gpt4o_rag_ts_gen'] = None \n",
    "\n",
    "for index, row in tqdm(data.iterrows()):\n",
    "\n",
    "    #print(row['NCTId'])\n",
    "\n",
    "    #AVOID these trials that were used as three-shot examples only\n",
    "    example_trials_to_avoid = ['NCT00000620', 'NCT01483560', 'NCT04280783']\n",
    "    if row['NCTId'] in example_trials_to_avoid:\n",
    "        continue\n",
    "\n",
    "    file_name = row['NCTId'] + '.json'\n",
    "    query_trial = json_file_to_rag_query(file_name, input_json_directory) #string query for searching rag database only\n",
    "\n",
    "    #run rag query and find the filenames of similar trials\n",
    "    similar_trials = module.query_clinical_trials_using_llamaindex(chroma_collection, vector_store_path,  \n",
    "                                                                   query_trial, top_k=number_of_similar_trials)\n",
    "    \n",
    "    #print(similar_trials)\n",
    "\n",
    "    #get system message, question \n",
    "    system_message, question = module.build_three_shot_prompt(row, similar_trials, rag_json_directory, \n",
    "                                                              ref_col_name='API_BaselineMeasures_Corrected') #asking ct_repo examples \n",
    "\n",
    "    model_query = module.system_user_template(system_message, question)\n",
    "    model_response = module.run_generation_single_openai(model_query, model_name = model_name, \n",
    "                                                openai_token = os.environ[\"OPENAI_API_KEY\"], temperature=0.0)\n",
    "\n",
    "    \n",
    "    data.at[index, 'gpt4o_rag_ts_gen'] = model_response\n",
    "    \n",
    "    # print \n",
    "    # print(system_message)\n",
    "    # print(question)\n",
    "    # print(model_response)\n",
    "    # break"
   ]
  },
  {
   "cell_type": "code",
   "execution_count": 8,
   "metadata": {},
   "outputs": [
    {
     "data": {
      "text/html": [
       "<div>\n",
       "<style scoped>\n",
       "    .dataframe tbody tr th:only-of-type {\n",
       "        vertical-align: middle;\n",
       "    }\n",
       "\n",
       "    .dataframe tbody tr th {\n",
       "        vertical-align: top;\n",
       "    }\n",
       "\n",
       "    .dataframe thead th {\n",
       "        text-align: right;\n",
       "    }\n",
       "</style>\n",
       "<table border=\"1\" class=\"dataframe\">\n",
       "  <thead>\n",
       "    <tr style=\"text-align: right;\">\n",
       "      <th></th>\n",
       "      <th>NCTId</th>\n",
       "      <th>BriefTitle</th>\n",
       "      <th>EligibilityCriteria</th>\n",
       "      <th>BriefSummary</th>\n",
       "      <th>Conditions</th>\n",
       "      <th>Interventions</th>\n",
       "      <th>PrimaryOutcomes</th>\n",
       "      <th>TrialGroup</th>\n",
       "      <th>API_BaselineMeasures</th>\n",
       "      <th>API_BaselineMeasures_Corrected</th>\n",
       "      <th>gpt4o_rag_ts_gen</th>\n",
       "    </tr>\n",
       "  </thead>\n",
       "  <tbody>\n",
       "    <tr>\n",
       "      <th>0</th>\n",
       "      <td>NCT01743001</td>\n",
       "      <td>Clinical Study to Evaluate the Effects of Maci...</td>\n",
       "      <td>Inclusion Criteria:\\n\\n* Subjects:\\n\\n  * not ...</td>\n",
       "      <td>Clinical study to assess the efficacy, safety,...</td>\n",
       "      <td>Pulmonary Arterial Hypertension,</td>\n",
       "      <td>Macitentan 10 mg, Placebo,</td>\n",
       "      <td>Change From Baseline to Week 16 in Exercise Ca...</td>\n",
       "      <td>hypertension</td>\n",
       "      <td>Age, Continuous, Age, Customized, Sex: Female,...</td>\n",
       "      <td>`Age, Continuous`, `Age, Customized`, `Sex: Fe...</td>\n",
       "      <td>`Age, Continuous`, `Age, Categorical`, `Sex: F...</td>\n",
       "    </tr>\n",
       "    <tr>\n",
       "      <th>1</th>\n",
       "      <td>NCT03439189</td>\n",
       "      <td>Companion Protocol for Methacetin Breath Test ...</td>\n",
       "      <td>Inclusion Criteria:\\n\\n1. Male or female subje...</td>\n",
       "      <td>To validate the ability of the Methacetin Brea...</td>\n",
       "      <td>NASH - Nonalcoholic Steatohepatitis, Cirrhosis...</td>\n",
       "      <td>Methacetin Breath Test, Emricasan, Placebo ora...</td>\n",
       "      <td>Number of Subjects With Matched Clinically Sig...</td>\n",
       "      <td>hypertension</td>\n",
       "      <td>Age, Continuous, Sex: Female, Male, Ethnicity ...</td>\n",
       "      <td>`Age, Continuous`, `Sex: Female, Male`, `Ethni...</td>\n",
       "      <td>`Age, Continuous`, `Sex: Female, Male`, `Ethni...</td>\n",
       "    </tr>\n",
       "    <tr>\n",
       "      <th>2</th>\n",
       "      <td>NCT00458003</td>\n",
       "      <td>Phenylephrine in Spinal Anesthesia in Preeclam...</td>\n",
       "      <td>Inclusion Criteria:\\n\\n* ASA PS II - III women...</td>\n",
       "      <td>Hypotension remains a common clinical problem ...</td>\n",
       "      <td>Preeclampsia, Hypotension,</td>\n",
       "      <td>Ephedrine, Phenylephrine,</td>\n",
       "      <td>The Umbilical Artery pH,</td>\n",
       "      <td>hypertension</td>\n",
       "      <td>Age, Categorical, Sex: Female, Male, Region of...</td>\n",
       "      <td>`Age, Categorical`, `Sex: Female, Male`, `Regi...</td>\n",
       "      <td>`Age, Continuous`, `Sex: Female, Male`, `Race/...</td>\n",
       "    </tr>\n",
       "  </tbody>\n",
       "</table>\n",
       "</div>"
      ],
      "text/plain": [
       "         NCTId                                         BriefTitle  \\\n",
       "0  NCT01743001  Clinical Study to Evaluate the Effects of Maci...   \n",
       "1  NCT03439189  Companion Protocol for Methacetin Breath Test ...   \n",
       "2  NCT00458003  Phenylephrine in Spinal Anesthesia in Preeclam...   \n",
       "\n",
       "                                 EligibilityCriteria  \\\n",
       "0  Inclusion Criteria:\\n\\n* Subjects:\\n\\n  * not ...   \n",
       "1  Inclusion Criteria:\\n\\n1. Male or female subje...   \n",
       "2  Inclusion Criteria:\\n\\n* ASA PS II - III women...   \n",
       "\n",
       "                                        BriefSummary  \\\n",
       "0  Clinical study to assess the efficacy, safety,...   \n",
       "1  To validate the ability of the Methacetin Brea...   \n",
       "2  Hypotension remains a common clinical problem ...   \n",
       "\n",
       "                                          Conditions  \\\n",
       "0                  Pulmonary Arterial Hypertension,    \n",
       "1  NASH - Nonalcoholic Steatohepatitis, Cirrhosis...   \n",
       "2                        Preeclampsia, Hypotension,    \n",
       "\n",
       "                                       Interventions  \\\n",
       "0                        Macitentan 10 mg, Placebo,    \n",
       "1  Methacetin Breath Test, Emricasan, Placebo ora...   \n",
       "2                         Ephedrine, Phenylephrine,    \n",
       "\n",
       "                                     PrimaryOutcomes    TrialGroup  \\\n",
       "0  Change From Baseline to Week 16 in Exercise Ca...  hypertension   \n",
       "1  Number of Subjects With Matched Clinically Sig...  hypertension   \n",
       "2                          The Umbilical Artery pH,   hypertension   \n",
       "\n",
       "                                API_BaselineMeasures  \\\n",
       "0  Age, Continuous, Age, Customized, Sex: Female,...   \n",
       "1  Age, Continuous, Sex: Female, Male, Ethnicity ...   \n",
       "2  Age, Categorical, Sex: Female, Male, Region of...   \n",
       "\n",
       "                      API_BaselineMeasures_Corrected  \\\n",
       "0  `Age, Continuous`, `Age, Customized`, `Sex: Fe...   \n",
       "1  `Age, Continuous`, `Sex: Female, Male`, `Ethni...   \n",
       "2  `Age, Categorical`, `Sex: Female, Male`, `Regi...   \n",
       "\n",
       "                                    gpt4o_rag_ts_gen  \n",
       "0  `Age, Continuous`, `Age, Categorical`, `Sex: F...  \n",
       "1  `Age, Continuous`, `Sex: Female, Male`, `Ethni...  \n",
       "2  `Age, Continuous`, `Sex: Female, Male`, `Race/...  "
      ]
     },
     "execution_count": 8,
     "metadata": {},
     "output_type": "execute_result"
    }
   ],
   "source": [
    "data.head(3)"
   ]
  },
  {
   "cell_type": "markdown",
   "metadata": {},
   "source": [
    "# Llama3 Generation with RAG (3-shot) "
   ]
  },
  {
   "cell_type": "code",
   "execution_count": 9,
   "metadata": {},
   "outputs": [
    {
     "name": "stderr",
     "output_type": "stream",
     "text": [
      "107it [05:39,  2.02s/it]"
     ]
    },
    {
     "name": "stdout",
     "output_type": "stream",
     "text": [
      "An error occurred while processing trial NCT02830880: Error code: 422 - {'error': 'Input validation error: `inputs` tokens + `max_new_tokens` must be <= 8192. Given: 8218 `inputs` tokens and 1000 `max_new_tokens`', 'error_type': 'validation'}\n"
     ]
    },
    {
     "name": "stderr",
     "output_type": "stream",
     "text": [
      "133it [07:02,  2.34s/it]"
     ]
    },
    {
     "name": "stdout",
     "output_type": "stream",
     "text": [
      "An error occurred while processing trial NCT03463265: Error code: 422 - {'error': 'Input validation error: `inputs` tokens + `max_new_tokens` must be <= 8192. Given: 7369 `inputs` tokens and 1000 `max_new_tokens`', 'error_type': 'validation'}\n"
     ]
    },
    {
     "name": "stderr",
     "output_type": "stream",
     "text": [
      "154it [08:06,  2.24s/it]"
     ]
    },
    {
     "name": "stdout",
     "output_type": "stream",
     "text": [
      "An error occurred while processing trial NCT01683994: Error code: 422 - {'error': 'Input validation error: `inputs` tokens + `max_new_tokens` must be <= 8192. Given: 8352 `inputs` tokens and 1000 `max_new_tokens`', 'error_type': 'validation'}\n"
     ]
    },
    {
     "name": "stderr",
     "output_type": "stream",
     "text": [
      "160it [08:21,  2.09s/it]"
     ]
    },
    {
     "name": "stdout",
     "output_type": "stream",
     "text": [
      "An error occurred while processing trial NCT02538510: Error code: 422 - {'error': 'Input validation error: `inputs` tokens + `max_new_tokens` must be <= 8192. Given: 7222 `inputs` tokens and 1000 `max_new_tokens`', 'error_type': 'validation'}\n"
     ]
    },
    {
     "name": "stderr",
     "output_type": "stream",
     "text": [
      "193it [10:24,  2.24s/it]"
     ]
    },
    {
     "name": "stdout",
     "output_type": "stream",
     "text": [
      "An error occurred while processing trial NCT01505868: Error code: 422 - {'error': 'Input validation error: `inputs` tokens + `max_new_tokens` must be <= 8192. Given: 8885 `inputs` tokens and 1000 `max_new_tokens`', 'error_type': 'validation'}\n"
     ]
    },
    {
     "name": "stderr",
     "output_type": "stream",
     "text": [
      "200it [10:48,  2.64s/it]"
     ]
    },
    {
     "name": "stdout",
     "output_type": "stream",
     "text": [
      "An error occurred while processing trial NCT01514201: Error code: 422 - {'error': 'Input validation error: `inputs` tokens + `max_new_tokens` must be <= 8192. Given: 7475 `inputs` tokens and 1000 `max_new_tokens`', 'error_type': 'validation'}\n"
     ]
    },
    {
     "name": "stderr",
     "output_type": "stream",
     "text": [
      "500it [26:11,  3.14s/it]\n"
     ]
    }
   ],
   "source": [
    "number_of_similar_trials = 3\n",
    "model_name   = models['gpt-4o']\n",
    "model_hf_endpoint = models['llama3-70b-it']\n",
    "\n",
    "data['llama3_70b_it_rag_ts_gen'] = None \n",
    "\n",
    "for index, row in tqdm(data.iterrows()):\n",
    "\n",
    "    #print(row['NCTId'])\n",
    "\n",
    "    #AVOID these trials that were used as three-shot examples only\n",
    "    example_trials_to_avoid = ['NCT00000620', 'NCT01483560', 'NCT04280783']\n",
    "    if row['NCTId'] in example_trials_to_avoid:\n",
    "        continue\n",
    "\n",
    "    file_name = row['NCTId'] + '.json'\n",
    "    query_trial = json_file_to_rag_query(file_name, input_json_directory) #string query for searching rag database only\n",
    "\n",
    "    try:\n",
    "        #run rag query and find the filenames of similar trials\n",
    "        similar_trials = module.query_clinical_trials_using_llamaindex(chroma_collection, vector_store_path,  \n",
    "                                                                    query_trial, top_k=number_of_similar_trials)\n",
    "        \n",
    "        # print(similar_trials)\n",
    "\n",
    "        #get system message, question \n",
    "        system_message, question = module.build_three_shot_prompt(row, similar_trials, rag_json_directory, \n",
    "                                                                ref_col_name='API_BaselineMeasures_Corrected') #which column to use for reference in RAG examples from ctrepo\n",
    "\n",
    "        model_query = module.system_user_template(system_message, question)\n",
    "        model_response = module.run_generation_single_hf_models(model_query, model_hf_endpoint, \n",
    "                                                        os.environ['HF_TOKEN'], temperature=0.0)\n",
    "\n",
    "        \n",
    "        data.at[index, 'llama3_70b_it_rag_ts_gen'] = model_response\n",
    "    \n",
    "    #Note: Weird Bug: UnprocessableEntityError: Error code: 422 - {'error': 'Input validation error: `inputs` tokens + `max_new_tokens` must be <= 8192. Given: 7573 `inputs` tokens and 1000 `max_new_tokens`', 'error_type': 'validation'}\n",
    "    except Exception as e:\n",
    "        print(f\"An error occurred while processing trial {row['NCTId']}: {e}\")\n",
    "        continue\n",
    "\n",
    "\n",
    "    #print \n",
    "    # print(system_message)\n",
    "    # print(question)\n",
    "    # print(model_response)\n",
    "    # break"
   ]
  },
  {
   "cell_type": "code",
   "execution_count": 10,
   "metadata": {},
   "outputs": [
    {
     "data": {
      "text/html": [
       "<div>\n",
       "<style scoped>\n",
       "    .dataframe tbody tr th:only-of-type {\n",
       "        vertical-align: middle;\n",
       "    }\n",
       "\n",
       "    .dataframe tbody tr th {\n",
       "        vertical-align: top;\n",
       "    }\n",
       "\n",
       "    .dataframe thead th {\n",
       "        text-align: right;\n",
       "    }\n",
       "</style>\n",
       "<table border=\"1\" class=\"dataframe\">\n",
       "  <thead>\n",
       "    <tr style=\"text-align: right;\">\n",
       "      <th></th>\n",
       "      <th>NCTId</th>\n",
       "      <th>BriefTitle</th>\n",
       "      <th>EligibilityCriteria</th>\n",
       "      <th>BriefSummary</th>\n",
       "      <th>Conditions</th>\n",
       "      <th>Interventions</th>\n",
       "      <th>PrimaryOutcomes</th>\n",
       "      <th>TrialGroup</th>\n",
       "      <th>API_BaselineMeasures</th>\n",
       "      <th>API_BaselineMeasures_Corrected</th>\n",
       "      <th>gpt4o_rag_ts_gen</th>\n",
       "      <th>llama3_70b_it_rag_ts_gen</th>\n",
       "    </tr>\n",
       "  </thead>\n",
       "  <tbody>\n",
       "    <tr>\n",
       "      <th>0</th>\n",
       "      <td>NCT01743001</td>\n",
       "      <td>Clinical Study to Evaluate the Effects of Maci...</td>\n",
       "      <td>Inclusion Criteria:\\n\\n* Subjects:\\n\\n  * not ...</td>\n",
       "      <td>Clinical study to assess the efficacy, safety,...</td>\n",
       "      <td>Pulmonary Arterial Hypertension,</td>\n",
       "      <td>Macitentan 10 mg, Placebo,</td>\n",
       "      <td>Change From Baseline to Week 16 in Exercise Ca...</td>\n",
       "      <td>hypertension</td>\n",
       "      <td>Age, Continuous, Age, Customized, Sex: Female,...</td>\n",
       "      <td>`Age, Continuous`, `Age, Customized`, `Sex: Fe...</td>\n",
       "      <td>`Age, Continuous`, `Age, Categorical`, `Sex: F...</td>\n",
       "      <td>`Age, Categorical`, `Age, Continuous`, `Sex: F...</td>\n",
       "    </tr>\n",
       "    <tr>\n",
       "      <th>1</th>\n",
       "      <td>NCT03439189</td>\n",
       "      <td>Companion Protocol for Methacetin Breath Test ...</td>\n",
       "      <td>Inclusion Criteria:\\n\\n1. Male or female subje...</td>\n",
       "      <td>To validate the ability of the Methacetin Brea...</td>\n",
       "      <td>NASH - Nonalcoholic Steatohepatitis, Cirrhosis...</td>\n",
       "      <td>Methacetin Breath Test, Emricasan, Placebo ora...</td>\n",
       "      <td>Number of Subjects With Matched Clinically Sig...</td>\n",
       "      <td>hypertension</td>\n",
       "      <td>Age, Continuous, Sex: Female, Male, Ethnicity ...</td>\n",
       "      <td>`Age, Continuous`, `Sex: Female, Male`, `Ethni...</td>\n",
       "      <td>`Age, Continuous`, `Sex: Female, Male`, `Ethni...</td>\n",
       "      <td>`Age, Continuous`, `Sex: Female, Male`, `Ethni...</td>\n",
       "    </tr>\n",
       "    <tr>\n",
       "      <th>2</th>\n",
       "      <td>NCT00458003</td>\n",
       "      <td>Phenylephrine in Spinal Anesthesia in Preeclam...</td>\n",
       "      <td>Inclusion Criteria:\\n\\n* ASA PS II - III women...</td>\n",
       "      <td>Hypotension remains a common clinical problem ...</td>\n",
       "      <td>Preeclampsia, Hypotension,</td>\n",
       "      <td>Ephedrine, Phenylephrine,</td>\n",
       "      <td>The Umbilical Artery pH,</td>\n",
       "      <td>hypertension</td>\n",
       "      <td>Age, Categorical, Sex: Female, Male, Region of...</td>\n",
       "      <td>`Age, Categorical`, `Sex: Female, Male`, `Regi...</td>\n",
       "      <td>`Age, Continuous`, `Sex: Female, Male`, `Race/...</td>\n",
       "      <td>`Age, Continuous`, `ASA PS`, `Body mass index ...</td>\n",
       "    </tr>\n",
       "  </tbody>\n",
       "</table>\n",
       "</div>"
      ],
      "text/plain": [
       "         NCTId                                         BriefTitle  \\\n",
       "0  NCT01743001  Clinical Study to Evaluate the Effects of Maci...   \n",
       "1  NCT03439189  Companion Protocol for Methacetin Breath Test ...   \n",
       "2  NCT00458003  Phenylephrine in Spinal Anesthesia in Preeclam...   \n",
       "\n",
       "                                 EligibilityCriteria  \\\n",
       "0  Inclusion Criteria:\\n\\n* Subjects:\\n\\n  * not ...   \n",
       "1  Inclusion Criteria:\\n\\n1. Male or female subje...   \n",
       "2  Inclusion Criteria:\\n\\n* ASA PS II - III women...   \n",
       "\n",
       "                                        BriefSummary  \\\n",
       "0  Clinical study to assess the efficacy, safety,...   \n",
       "1  To validate the ability of the Methacetin Brea...   \n",
       "2  Hypotension remains a common clinical problem ...   \n",
       "\n",
       "                                          Conditions  \\\n",
       "0                  Pulmonary Arterial Hypertension,    \n",
       "1  NASH - Nonalcoholic Steatohepatitis, Cirrhosis...   \n",
       "2                        Preeclampsia, Hypotension,    \n",
       "\n",
       "                                       Interventions  \\\n",
       "0                        Macitentan 10 mg, Placebo,    \n",
       "1  Methacetin Breath Test, Emricasan, Placebo ora...   \n",
       "2                         Ephedrine, Phenylephrine,    \n",
       "\n",
       "                                     PrimaryOutcomes    TrialGroup  \\\n",
       "0  Change From Baseline to Week 16 in Exercise Ca...  hypertension   \n",
       "1  Number of Subjects With Matched Clinically Sig...  hypertension   \n",
       "2                          The Umbilical Artery pH,   hypertension   \n",
       "\n",
       "                                API_BaselineMeasures  \\\n",
       "0  Age, Continuous, Age, Customized, Sex: Female,...   \n",
       "1  Age, Continuous, Sex: Female, Male, Ethnicity ...   \n",
       "2  Age, Categorical, Sex: Female, Male, Region of...   \n",
       "\n",
       "                      API_BaselineMeasures_Corrected  \\\n",
       "0  `Age, Continuous`, `Age, Customized`, `Sex: Fe...   \n",
       "1  `Age, Continuous`, `Sex: Female, Male`, `Ethni...   \n",
       "2  `Age, Categorical`, `Sex: Female, Male`, `Regi...   \n",
       "\n",
       "                                    gpt4o_rag_ts_gen  \\\n",
       "0  `Age, Continuous`, `Age, Categorical`, `Sex: F...   \n",
       "1  `Age, Continuous`, `Sex: Female, Male`, `Ethni...   \n",
       "2  `Age, Continuous`, `Sex: Female, Male`, `Race/...   \n",
       "\n",
       "                            llama3_70b_it_rag_ts_gen  \n",
       "0  `Age, Categorical`, `Age, Continuous`, `Sex: F...  \n",
       "1  `Age, Continuous`, `Sex: Female, Male`, `Ethni...  \n",
       "2  `Age, Continuous`, `ASA PS`, `Body mass index ...  "
      ]
     },
     "execution_count": 10,
     "metadata": {},
     "output_type": "execute_result"
    }
   ],
   "source": [
    "data.head(3)"
   ]
  },
  {
   "cell_type": "code",
   "execution_count": 11,
   "metadata": {},
   "outputs": [],
   "source": [
    "data.to_csv('../data/hidden_data/CT-Repo-500-Samples-all-rag_on_ctrepo-gen.csv', index=False)"
   ]
  },
  {
   "cell_type": "markdown",
   "metadata": {},
   "source": [
    "## GPT4 Evaluation"
   ]
  },
  {
   "cell_type": "code",
   "execution_count": 12,
   "metadata": {},
   "outputs": [],
   "source": [
    "eval_data = pd.DataFrame()\n",
    "eval_data['NCTId'] = data['NCTId']"
   ]
  },
  {
   "cell_type": "code",
   "execution_count": 13,
   "metadata": {},
   "outputs": [
    {
     "data": {
      "text/html": [
       "<div>\n",
       "<style scoped>\n",
       "    .dataframe tbody tr th:only-of-type {\n",
       "        vertical-align: middle;\n",
       "    }\n",
       "\n",
       "    .dataframe tbody tr th {\n",
       "        vertical-align: top;\n",
       "    }\n",
       "\n",
       "    .dataframe thead th {\n",
       "        text-align: right;\n",
       "    }\n",
       "</style>\n",
       "<table border=\"1\" class=\"dataframe\">\n",
       "  <thead>\n",
       "    <tr style=\"text-align: right;\">\n",
       "      <th></th>\n",
       "      <th>NCTId</th>\n",
       "      <th>BriefTitle</th>\n",
       "      <th>EligibilityCriteria</th>\n",
       "      <th>BriefSummary</th>\n",
       "      <th>Conditions</th>\n",
       "      <th>Interventions</th>\n",
       "      <th>PrimaryOutcomes</th>\n",
       "      <th>TrialGroup</th>\n",
       "      <th>API_BaselineMeasures</th>\n",
       "      <th>API_BaselineMeasures_Corrected</th>\n",
       "      <th>gpt4o_rag_ts_gen</th>\n",
       "      <th>llama3_70b_it_rag_ts_gen</th>\n",
       "    </tr>\n",
       "  </thead>\n",
       "  <tbody>\n",
       "    <tr>\n",
       "      <th>0</th>\n",
       "      <td>NCT01743001</td>\n",
       "      <td>Clinical Study to Evaluate the Effects of Maci...</td>\n",
       "      <td>Inclusion Criteria:\\n\\n* Subjects:\\n\\n  * not ...</td>\n",
       "      <td>Clinical study to assess the efficacy, safety,...</td>\n",
       "      <td>Pulmonary Arterial Hypertension,</td>\n",
       "      <td>Macitentan 10 mg, Placebo,</td>\n",
       "      <td>Change From Baseline to Week 16 in Exercise Ca...</td>\n",
       "      <td>hypertension</td>\n",
       "      <td>Age, Continuous, Age, Customized, Sex: Female,...</td>\n",
       "      <td>`Age, Continuous`, `Age, Customized`, `Sex: Fe...</td>\n",
       "      <td>`Age, Continuous`, `Age, Categorical`, `Sex: F...</td>\n",
       "      <td>`Age, Categorical`, `Age, Continuous`, `Sex: F...</td>\n",
       "    </tr>\n",
       "    <tr>\n",
       "      <th>1</th>\n",
       "      <td>NCT03439189</td>\n",
       "      <td>Companion Protocol for Methacetin Breath Test ...</td>\n",
       "      <td>Inclusion Criteria:\\n\\n1. Male or female subje...</td>\n",
       "      <td>To validate the ability of the Methacetin Brea...</td>\n",
       "      <td>NASH - Nonalcoholic Steatohepatitis, Cirrhosis...</td>\n",
       "      <td>Methacetin Breath Test, Emricasan, Placebo ora...</td>\n",
       "      <td>Number of Subjects With Matched Clinically Sig...</td>\n",
       "      <td>hypertension</td>\n",
       "      <td>Age, Continuous, Sex: Female, Male, Ethnicity ...</td>\n",
       "      <td>`Age, Continuous`, `Sex: Female, Male`, `Ethni...</td>\n",
       "      <td>`Age, Continuous`, `Sex: Female, Male`, `Ethni...</td>\n",
       "      <td>`Age, Continuous`, `Sex: Female, Male`, `Ethni...</td>\n",
       "    </tr>\n",
       "    <tr>\n",
       "      <th>2</th>\n",
       "      <td>NCT00458003</td>\n",
       "      <td>Phenylephrine in Spinal Anesthesia in Preeclam...</td>\n",
       "      <td>Inclusion Criteria:\\n\\n* ASA PS II - III women...</td>\n",
       "      <td>Hypotension remains a common clinical problem ...</td>\n",
       "      <td>Preeclampsia, Hypotension,</td>\n",
       "      <td>Ephedrine, Phenylephrine,</td>\n",
       "      <td>The Umbilical Artery pH,</td>\n",
       "      <td>hypertension</td>\n",
       "      <td>Age, Categorical, Sex: Female, Male, Region of...</td>\n",
       "      <td>`Age, Categorical`, `Sex: Female, Male`, `Regi...</td>\n",
       "      <td>`Age, Continuous`, `Sex: Female, Male`, `Race/...</td>\n",
       "      <td>`Age, Continuous`, `ASA PS`, `Body mass index ...</td>\n",
       "    </tr>\n",
       "  </tbody>\n",
       "</table>\n",
       "</div>"
      ],
      "text/plain": [
       "         NCTId                                         BriefTitle  \\\n",
       "0  NCT01743001  Clinical Study to Evaluate the Effects of Maci...   \n",
       "1  NCT03439189  Companion Protocol for Methacetin Breath Test ...   \n",
       "2  NCT00458003  Phenylephrine in Spinal Anesthesia in Preeclam...   \n",
       "\n",
       "                                 EligibilityCriteria  \\\n",
       "0  Inclusion Criteria:\\n\\n* Subjects:\\n\\n  * not ...   \n",
       "1  Inclusion Criteria:\\n\\n1. Male or female subje...   \n",
       "2  Inclusion Criteria:\\n\\n* ASA PS II - III women...   \n",
       "\n",
       "                                        BriefSummary  \\\n",
       "0  Clinical study to assess the efficacy, safety,...   \n",
       "1  To validate the ability of the Methacetin Brea...   \n",
       "2  Hypotension remains a common clinical problem ...   \n",
       "\n",
       "                                          Conditions  \\\n",
       "0                  Pulmonary Arterial Hypertension,    \n",
       "1  NASH - Nonalcoholic Steatohepatitis, Cirrhosis...   \n",
       "2                        Preeclampsia, Hypotension,    \n",
       "\n",
       "                                       Interventions  \\\n",
       "0                        Macitentan 10 mg, Placebo,    \n",
       "1  Methacetin Breath Test, Emricasan, Placebo ora...   \n",
       "2                         Ephedrine, Phenylephrine,    \n",
       "\n",
       "                                     PrimaryOutcomes    TrialGroup  \\\n",
       "0  Change From Baseline to Week 16 in Exercise Ca...  hypertension   \n",
       "1  Number of Subjects With Matched Clinically Sig...  hypertension   \n",
       "2                          The Umbilical Artery pH,   hypertension   \n",
       "\n",
       "                                API_BaselineMeasures  \\\n",
       "0  Age, Continuous, Age, Customized, Sex: Female,...   \n",
       "1  Age, Continuous, Sex: Female, Male, Ethnicity ...   \n",
       "2  Age, Categorical, Sex: Female, Male, Region of...   \n",
       "\n",
       "                      API_BaselineMeasures_Corrected  \\\n",
       "0  `Age, Continuous`, `Age, Customized`, `Sex: Fe...   \n",
       "1  `Age, Continuous`, `Sex: Female, Male`, `Ethni...   \n",
       "2  `Age, Categorical`, `Sex: Female, Male`, `Regi...   \n",
       "\n",
       "                                    gpt4o_rag_ts_gen  \\\n",
       "0  `Age, Continuous`, `Age, Categorical`, `Sex: F...   \n",
       "1  `Age, Continuous`, `Sex: Female, Male`, `Ethni...   \n",
       "2  `Age, Continuous`, `Sex: Female, Male`, `Race/...   \n",
       "\n",
       "                            llama3_70b_it_rag_ts_gen  \n",
       "0  `Age, Categorical`, `Age, Continuous`, `Sex: F...  \n",
       "1  `Age, Continuous`, `Sex: Female, Male`, `Ethni...  \n",
       "2  `Age, Continuous`, `ASA PS`, `Body mass index ...  "
      ]
     },
     "execution_count": 13,
     "metadata": {},
     "output_type": "execute_result"
    }
   ],
   "source": [
    "data.head(3)"
   ]
  },
  {
   "cell_type": "code",
   "execution_count": 14,
   "metadata": {},
   "outputs": [
    {
     "name": "stderr",
     "output_type": "stream",
     "text": [
      "500it [46:51,  5.62s/it]\n"
     ]
    }
   ],
   "source": [
    "import json\n",
    "from tqdm import tqdm\n",
    "\n",
    "for index, row in tqdm(data.iterrows()):\n",
    "\n",
    "    example_trials_to_avoid = ['NCT00000620', 'NCT01483560', 'NCT04280783']\n",
    "    if row['NCTId'] in example_trials_to_avoid:\n",
    "        continue\n",
    "\n",
    "    qstart = module.get_question_from_row(row)\n",
    "\n",
    "    if row['llama3_70b_it_rag_ts_gen'] is None:\n",
    "        continue\n",
    "\n",
    "    reference_list = module.extract_elements_v2(row['API_BaselineMeasures_Corrected']) #which column to use for reference as input from ctpub\n",
    "    \n",
    "    candidate_gts = module.extract_elements_v2(row['gpt4o_rag_ts_gen'])\n",
    "    candidate_lts = module.extract_elements_v2(row['llama3_70b_it_rag_ts_gen'])\n",
    "    \n",
    "    system_message_gts, question_gts = module.build_gpt4_eval_prompt(reference_list,\n",
    "                                                            candidate_gts,\n",
    "                                                            qstart)\n",
    "    \n",
    "    \n",
    "    system_message_lts, question_lts = module.build_gpt4_eval_prompt(reference_list,\n",
    "                                                            candidate_lts,\n",
    "                                                            qstart)\n",
    "\n",
    "    \n",
    "    eval_model_response_gts = module.run_evaluation_with_gpt4o(system_message_gts, question_gts, os.environ[\"OPENAI_API_KEY\"])\n",
    "    eval_model_response_lts = module.run_evaluation_with_gpt4o(system_message_lts, question_lts, os.environ[\"OPENAI_API_KEY\"])\n",
    "    \n",
    "    #Convert eval_model_response to a JSON string and store in the dataframe\n",
    "    eval_data.at[index, 'gpt4o_ts_gen_matches'] = eval_model_response_gts\n",
    "    eval_data.at[index, 'llama3_70b_it_ts_gen_matches'] = eval_model_response_lts\n",
    "\n",
    "    #break\n",
    "    \n"
   ]
  },
  {
   "cell_type": "code",
   "execution_count": 15,
   "metadata": {},
   "outputs": [],
   "source": [
    "eval_data.to_csv('../data/hidden_data/CT-Repo-500-Samples-all-rag_on_ctrepo-eval.csv', index=False)"
   ]
  },
  {
   "cell_type": "code",
   "execution_count": 16,
   "metadata": {},
   "outputs": [
    {
     "data": {
      "text/html": [
       "<div>\n",
       "<style scoped>\n",
       "    .dataframe tbody tr th:only-of-type {\n",
       "        vertical-align: middle;\n",
       "    }\n",
       "\n",
       "    .dataframe tbody tr th {\n",
       "        vertical-align: top;\n",
       "    }\n",
       "\n",
       "    .dataframe thead th {\n",
       "        text-align: right;\n",
       "    }\n",
       "</style>\n",
       "<table border=\"1\" class=\"dataframe\">\n",
       "  <thead>\n",
       "    <tr style=\"text-align: right;\">\n",
       "      <th></th>\n",
       "      <th>NCTId</th>\n",
       "      <th>gpt4o_ts_gen_matches</th>\n",
       "      <th>llama3_70b_it_ts_gen_matches</th>\n",
       "    </tr>\n",
       "  </thead>\n",
       "  <tbody>\n",
       "    <tr>\n",
       "      <th>0</th>\n",
       "      <td>NCT01743001</td>\n",
       "      <td>{\\n    \"matched_features\": [\\n        [\"Age, C...</td>\n",
       "      <td>{\\n  \"matched_features\": [\\n    [\"Age, Continu...</td>\n",
       "    </tr>\n",
       "    <tr>\n",
       "      <th>1</th>\n",
       "      <td>NCT03439189</td>\n",
       "      <td>{\\n    \"matched_features\": [\\n        [\"Age, C...</td>\n",
       "      <td>{\\n    \"matched_features\": [\\n        [\"Age, C...</td>\n",
       "    </tr>\n",
       "    <tr>\n",
       "      <th>2</th>\n",
       "      <td>NCT00458003</td>\n",
       "      <td>{\\n    \"matched_features\": [\\n        [\"Age, C...</td>\n",
       "      <td>{\\n    \"matched_features\": [\\n        [\"Age, C...</td>\n",
       "    </tr>\n",
       "  </tbody>\n",
       "</table>\n",
       "</div>"
      ],
      "text/plain": [
       "         NCTId                               gpt4o_ts_gen_matches  \\\n",
       "0  NCT01743001  {\\n    \"matched_features\": [\\n        [\"Age, C...   \n",
       "1  NCT03439189  {\\n    \"matched_features\": [\\n        [\"Age, C...   \n",
       "2  NCT00458003  {\\n    \"matched_features\": [\\n        [\"Age, C...   \n",
       "\n",
       "                        llama3_70b_it_ts_gen_matches  \n",
       "0  {\\n  \"matched_features\": [\\n    [\"Age, Continu...  \n",
       "1  {\\n    \"matched_features\": [\\n        [\"Age, C...  \n",
       "2  {\\n    \"matched_features\": [\\n        [\"Age, C...  "
      ]
     },
     "execution_count": 16,
     "metadata": {},
     "output_type": "execute_result"
    }
   ],
   "source": [
    "eval_data.head(3)"
   ]
  },
  {
   "cell_type": "code",
   "execution_count": 17,
   "metadata": {},
   "outputs": [
    {
     "name": "stdout",
     "output_type": "stream",
     "text": [
      "{\n",
      "    \"matched_features\": [\n",
      "        [\"Age, Categorical\", \"Age, Continuous\"],\n",
      "        [\"Sex: Female, Male\", \"Sex: Female, Male\"],\n",
      "        [\"Region of Enrollment\", \"Region of Enrollment\"],\n",
      "        [\"Estimated gestational age (weeks)\", \"Gestational age (weeks)\"],\n",
      "        [\"Preeclampsia\", \"Previous preeclampsia\"],\n",
      "        [\"Baseline systolic blood pressure\", \"Systolic blood pressure (mmHg)\"],\n",
      "        [\"Body mass index\", \"Body mass index (kg/m2)\"]\n",
      "    ],\n",
      "    \"remaining_reference_features\": [\n",
      "        \"Multiple gestation\",\n",
      "        \"Number of infants delivered per group\",\n",
      "        \"Baseline heart rate\"\n",
      "    ],\n",
      "    \"remaining_candidate_features\": [\n",
      "        \"Race/Ethnicity, Customized\",\n",
      "        \"Parity\",\n",
      "        \"Chronic hypertension\",\n",
      "        \"Diastolic blood pressure (mmHg)\",\n",
      "        \"Mode of delivery\"\n",
      "    ]\n",
      "}\n"
     ]
    }
   ],
   "source": [
    "print(eval_data.at[2, 'gpt4o_ts_gen_matches'])"
   ]
  },
  {
   "cell_type": "markdown",
   "metadata": {},
   "source": [
    "## Score Calculation"
   ]
  },
  {
   "cell_type": "code",
   "execution_count": 18,
   "metadata": {},
   "outputs": [],
   "source": [
    "score_df = pd.DataFrame()\n",
    "score_df['NCTId'] = data['NCTId']"
   ]
  },
  {
   "cell_type": "code",
   "execution_count": 19,
   "metadata": {},
   "outputs": [
    {
     "name": "stderr",
     "output_type": "stream",
     "text": [
      "500it [00:00, 16585.36it/s]"
     ]
    },
    {
     "name": "stdout",
     "output_type": "stream",
     "text": [
      "An error occurred while processing trial NCT02214186: Unterminated string starting at: line 120 column 9 (char 4519)\n",
      "An error occurred while processing trial NCT02830880: the JSON object must be str, bytes or bytearray, not float\n",
      "An error occurred while processing trial NCT03463265: the JSON object must be str, bytes or bytearray, not float\n",
      "An error occurred while processing trial NCT01683994: the JSON object must be str, bytes or bytearray, not float\n",
      "An error occurred while processing trial NCT02538510: the JSON object must be str, bytes or bytearray, not float\n",
      "An error occurred while processing trial NCT00417079: Unterminated string starting at: line 146 column 9 (char 5306)\n",
      "An error occurred while processing trial NCT01307579: division by zero\n",
      "An error occurred while processing trial NCT01505868: the JSON object must be str, bytes or bytearray, not float\n",
      "An error occurred while processing trial NCT02337530: Unterminated string starting at: line 107 column 5 (char 4103)\n",
      "An error occurred while processing trial NCT01514201: the JSON object must be str, bytes or bytearray, not float\n",
      "An error occurred while processing trial NCT00819091: division by zero\n",
      "An error occurred while processing trial NCT02837237: Unterminated string starting at: line 91 column 5 (char 3721)\n",
      "An error occurred while processing trial NCT02902120: Unterminated string starting at: line 120 column 9 (char 5156)\n",
      "An error occurred while processing trial NCT01227616: Unterminated string starting at: line 119 column 9 (char 4421)\n",
      "An error occurred while processing trial NCT01206062: Expecting value: line 129 column 4 (char 4423)\n"
     ]
    },
    {
     "name": "stderr",
     "output_type": "stream",
     "text": [
      "\n"
     ]
    }
   ],
   "source": [
    "import json \n",
    "\n",
    "gts_sum = {'precision':0, 'recall':0, 'f1':0}\n",
    "lts_sum = {'precision':0, 'recall':0, 'f1':0}\n",
    "\n",
    "total_count = 0\n",
    "\n",
    "for index, row in tqdm(eval_data.iterrows()):\n",
    "    avoid_ids = ['NCT00000620', 'NCT01483560', 'NCT04280783'] #these were used as examples for 3-shot generation\n",
    "    if row['NCTId'] in avoid_ids:\n",
    "        continue\n",
    "    if not row['llama3_70b_it_ts_gen_matches'] or not row['gpt4o_ts_gen_matches']:\n",
    "        continue\n",
    "\n",
    "    #print(row['NCTId'])\n",
    "    \n",
    "    try:\n",
    "        # gts\n",
    "        gts_dict = json.loads(row['gpt4o_ts_gen_matches'])\n",
    "        gts_matches = gts_dict['matched_features']\n",
    "        gts_remaining_references = gts_dict['remaining_reference_features']\n",
    "        gts_remaining_candidates = gts_dict['remaining_candidate_features']\n",
    "        gts_score = module.match_to_score(gts_matches, gts_remaining_references, gts_remaining_candidates)\n",
    "        score_df.at[index, 'gpt4o_ts_gen_scores'] = json.dumps(gts_score)\n",
    "        gts_sum['precision'] += gts_score['precision']\n",
    "        gts_sum['recall'] += gts_score['recall']\n",
    "        gts_sum['f1'] += gts_score['f1']\n",
    "\n",
    "        # lts \n",
    "        lts_dict = json.loads(row['llama3_70b_it_ts_gen_matches'])\n",
    "        lts_matches = lts_dict['matched_features']\n",
    "        lts_remaining_references = lts_dict['remaining_reference_features']\n",
    "        lts_remaining_candidates = lts_dict['remaining_candidate_features']\n",
    "        lts_score = module.match_to_score(lts_matches, lts_remaining_references, lts_remaining_candidates)\n",
    "        score_df.at[index, 'llama3_70b_it_ts_gen_scores'] = json.dumps(lts_score)\n",
    "        lts_sum['precision'] += lts_score['precision']\n",
    "        lts_sum['recall'] += lts_score['recall']\n",
    "        lts_sum['f1'] += lts_score['f1']\n",
    "\n",
    "        total_count += 1\n",
    "\n",
    "    except Exception as e:\n",
    "        print(f\"An error occurred while processing trial {row['NCTId']}: {e}\")\n",
    "        continue\n",
    "\n",
    "    #break\n",
    "\n"
   ]
  },
  {
   "cell_type": "code",
   "execution_count": 20,
   "metadata": {},
   "outputs": [
    {
     "data": {
      "text/html": [
       "<div>\n",
       "<style scoped>\n",
       "    .dataframe tbody tr th:only-of-type {\n",
       "        vertical-align: middle;\n",
       "    }\n",
       "\n",
       "    .dataframe tbody tr th {\n",
       "        vertical-align: top;\n",
       "    }\n",
       "\n",
       "    .dataframe thead th {\n",
       "        text-align: right;\n",
       "    }\n",
       "</style>\n",
       "<table border=\"1\" class=\"dataframe\">\n",
       "  <thead>\n",
       "    <tr style=\"text-align: right;\">\n",
       "      <th></th>\n",
       "      <th>NCTId</th>\n",
       "      <th>gpt4o_ts_gen_scores</th>\n",
       "      <th>llama3_70b_it_ts_gen_scores</th>\n",
       "    </tr>\n",
       "  </thead>\n",
       "  <tbody>\n",
       "    <tr>\n",
       "      <th>0</th>\n",
       "      <td>NCT01743001</td>\n",
       "      <td>{\"precision\": 0.3333333333333333, \"recall\": 0....</td>\n",
       "      <td>{\"precision\": 0.38461538461538464, \"recall\": 0...</td>\n",
       "    </tr>\n",
       "    <tr>\n",
       "      <th>1</th>\n",
       "      <td>NCT03439189</td>\n",
       "      <td>{\"precision\": 0.4166666666666667, \"recall\": 0....</td>\n",
       "      <td>{\"precision\": 0.3125, \"recall\": 0.714285714285...</td>\n",
       "    </tr>\n",
       "    <tr>\n",
       "      <th>2</th>\n",
       "      <td>NCT00458003</td>\n",
       "      <td>{\"precision\": 0.5833333333333334, \"recall\": 0....</td>\n",
       "      <td>{\"precision\": 0.5, \"recall\": 0.5, \"f1\": 0.5}</td>\n",
       "    </tr>\n",
       "    <tr>\n",
       "      <th>3</th>\n",
       "      <td>NCT02056626</td>\n",
       "      <td>{\"precision\": 0.3, \"recall\": 0.5, \"f1\": 0.3749...</td>\n",
       "      <td>{\"precision\": 0.2222222222222222, \"recall\": 0....</td>\n",
       "    </tr>\n",
       "    <tr>\n",
       "      <th>4</th>\n",
       "      <td>NCT01780974</td>\n",
       "      <td>{\"precision\": 0.38095238095238093, \"recall\": 0...</td>\n",
       "      <td>{\"precision\": 0.38095238095238093, \"recall\": 0...</td>\n",
       "    </tr>\n",
       "  </tbody>\n",
       "</table>\n",
       "</div>"
      ],
      "text/plain": [
       "         NCTId                                gpt4o_ts_gen_scores  \\\n",
       "0  NCT01743001  {\"precision\": 0.3333333333333333, \"recall\": 0....   \n",
       "1  NCT03439189  {\"precision\": 0.4166666666666667, \"recall\": 0....   \n",
       "2  NCT00458003  {\"precision\": 0.5833333333333334, \"recall\": 0....   \n",
       "3  NCT02056626  {\"precision\": 0.3, \"recall\": 0.5, \"f1\": 0.3749...   \n",
       "4  NCT01780974  {\"precision\": 0.38095238095238093, \"recall\": 0...   \n",
       "\n",
       "                         llama3_70b_it_ts_gen_scores  \n",
       "0  {\"precision\": 0.38461538461538464, \"recall\": 0...  \n",
       "1  {\"precision\": 0.3125, \"recall\": 0.714285714285...  \n",
       "2       {\"precision\": 0.5, \"recall\": 0.5, \"f1\": 0.5}  \n",
       "3  {\"precision\": 0.2222222222222222, \"recall\": 0....  \n",
       "4  {\"precision\": 0.38095238095238093, \"recall\": 0...  "
      ]
     },
     "execution_count": 20,
     "metadata": {},
     "output_type": "execute_result"
    }
   ],
   "source": [
    "score_df.head()"
   ]
  },
  {
   "cell_type": "code",
   "execution_count": 21,
   "metadata": {},
   "outputs": [
    {
     "name": "stdout",
     "output_type": "stream",
     "text": [
      "GPT-4o Three Shot Scores: Precision=0.4803974116518465 Recall=0.6404057933646666 F1=0.5228506767138614\n",
      "Llama-3 70B Instruct Three Shot Scores: Precision=0.5076440399356804 Recall=0.6186471641231414 F1=0.5271666553959126\n"
     ]
    }
   ],
   "source": [
    "print(f\"GPT-4o Three Shot Scores: Precision={gts_sum['precision']/total_count} Recall={gts_sum['recall']/total_count} F1={gts_sum['f1']/total_count}\")\n",
    "print(f\"Llama-3 70B Instruct Three Shot Scores: Precision={lts_sum['precision']/total_count} Recall={lts_sum['recall']/total_count} F1={lts_sum['f1']/total_count}\")\n"
   ]
  }
 ],
 "metadata": {
  "kernelspec": {
   "display_name": "ctbench_rag",
   "language": "python",
   "name": "python3"
  },
  "language_info": {
   "codemirror_mode": {
    "name": "ipython",
    "version": 3
   },
   "file_extension": ".py",
   "mimetype": "text/x-python",
   "name": "python",
   "nbconvert_exporter": "python",
   "pygments_lexer": "ipython3",
   "version": "3.9.6"
  }
 },
 "nbformat": 4,
 "nbformat_minor": 2
}
